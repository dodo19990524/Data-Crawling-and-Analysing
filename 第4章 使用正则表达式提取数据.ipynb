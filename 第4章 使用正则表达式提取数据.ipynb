{
 "cells": [
  {
   "cell_type": "markdown",
   "metadata": {
    "collapsed": true
   },
   "source": [
    "### 4.1 正则表达式原理"
   ]
  },
  {
   "cell_type": "code",
   "execution_count": 1,
   "metadata": {
    "collapsed": false
   },
   "outputs": [
    {
     "data": {
      "text/plain": [
       "<_sre.SRE_Match object; span=(3, 10), match='6734567'>"
      ]
     },
     "execution_count": 1,
     "metadata": {},
     "output_type": "execute_result"
    }
   ],
   "source": [
    "#正则表达式原理\n",
    "import re\n",
    "a=\"Tom6734567\"\n",
    "re.search(\"6734567\",a)   \n",
    "re.search(\"[0123456789]\",a)\n",
    "re.search(\"\\d\",a)\n",
    "re.search(\"\\d+\",a)\n"
   ]
  },
  {
   "cell_type": "markdown",
   "metadata": {},
   "source": [
    "### 4.2 正则表达式语法"
   ]
  },
  {
   "cell_type": "code",
   "execution_count": null,
   "metadata": {
    "collapsed": true
   },
   "outputs": [],
   "source": [
    "#正则表达式的贪婪模式\n",
    "import re\n",
    "re.findall('hi*', 'hiiiii')      #返回['hiiiii']\n",
    "re.findall('hi{2,}', 'hiiiii')   #返回['hiiiii']\n",
    "re.findall('hi{1,3}', 'hiiiii')  #返回['hiii']\n",
    "\n",
    "import re\n",
    "s = '<html><head><title>Title</title>'\n",
    "re.findall('<.*>', s)"
   ]
  },
  {
   "cell_type": "code",
   "execution_count": null,
   "metadata": {
    "collapsed": true
   },
   "outputs": [],
   "source": [
    "#正则表达式的非贪婪模式\n",
    "import re\n",
    "re.findall('hi*?', 'hiiiii')          #返回['h']\n",
    "re.findall('hi{2,}?', 'hiiiii')       #返回['hii']\n",
    "re.findall('hi{1,3}?', 'hiiiii')      #返回['hi']\n",
    "s = '<html><head><title>Title</title>'\n",
    "re.findall('<.*?>', s)     #返回 ['<html>', '<head>', '<title>', '</title>']"
   ]
  },
  {
   "cell_type": "markdown",
   "metadata": {},
   "source": [
    "### 4.3 re模块常用的函数"
   ]
  },
  {
   "cell_type": "code",
   "execution_count": null,
   "metadata": {
    "collapsed": true
   },
   "outputs": [],
   "source": [
    "#search mach findall函数\n",
    "import re\n",
    "a=re.search(\"[\\d]\",\"abc123\")\n",
    "print(a)\n",
    "p=re.match(\"[\\d]\",\"abc123\")\n",
    "print(p)\n",
    "b=re.findall(\"[\\d]\",\"abc123\")\n",
    "print(b)"
   ]
  },
  {
   "cell_type": "code",
   "execution_count": null,
   "metadata": {
    "collapsed": true
   },
   "outputs": [],
   "source": [
    "#compile编译函数\n",
    "import re\n",
    "p = re.compile('ab*')\n",
    "b=p.match('abbcc')\n",
    "a=re.match('ab*','abbcc')\n"
   ]
  },
  {
   "cell_type": "markdown",
   "metadata": {},
   "source": [
    "### 4.4 正则表达式应用实例"
   ]
  },
  {
   "cell_type": "code",
   "execution_count": null,
   "metadata": {
    "collapsed": true
   },
   "outputs": [],
   "source": [
    "#re.findall()只提取“( )”匹配的字符串\n",
    "import re\n",
    "html= '<ul class=\"clearfix\"><li><a href=\"http://sports.163.com/\">体育</a></li><li><a href=\"http://tech.163.com/\">科技</a></li<li><a href=\"http://v.163.com/\">视频</a></li><li><a href=\"http://edu.163.com/\">教育</a></li><li><a href=\"http://ent.163.com/\">娱乐</a></li><li><a href=\"http://mobile.163.com/\">手机</a></li>'\n",
    "url1=re.findall('a href=\".+?\">',html)\n",
    "url2=re.findall('a href=\"(.+?)\">',html)\n"
   ]
  },
  {
   "cell_type": "code",
   "execution_count": null,
   "metadata": {
    "collapsed": true
   },
   "outputs": [],
   "source": [
    "#匹配国内手机号码\n",
    "import re\n",
    "number='bob:13965743567 alex:18071235647 ben:15678835621'\n",
    "s='1[34578]\\d{9}'\n",
    "phone=re.findall(s,number)"
   ]
  },
  {
   "cell_type": "code",
   "execution_count": null,
   "metadata": {
    "collapsed": true
   },
   "outputs": [],
   "source": [
    "#匹配电子邮件\n",
    "import re\n",
    "email='haha@163.com; ha_ha@alibaba.com.cn; ha-ha@sina.com；123456789@sufe.edu.cn '\n",
    "s='[\\w-]+@[\\w-]+\\.[\\w\\.-]+'\n",
    "mail=re.findall(s,email)"
   ]
  }
 ],
 "metadata": {
  "anaconda-cloud": {},
  "kernelspec": {
   "display_name": "Python [default]",
   "language": "python",
   "name": "python3"
  },
  "language_info": {
   "codemirror_mode": {
    "name": "ipython",
    "version": 3
   },
   "file_extension": ".py",
   "mimetype": "text/x-python",
   "name": "python",
   "nbconvert_exporter": "python",
   "pygments_lexer": "ipython3",
   "version": "3.5.2"
  }
 },
 "nbformat": 4,
 "nbformat_minor": 1
}
