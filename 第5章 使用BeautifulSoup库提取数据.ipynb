{
 "cells": [
  {
   "cell_type": "markdown",
   "metadata": {},
   "source": [
    "### 5.1 BeautifulSoup包简介"
   ]
  },
  {
   "cell_type": "markdown",
   "metadata": {},
   "source": [
    "### 5.2 BeautifulSoup的信息提取"
   ]
  },
  {
   "cell_type": "code",
   "execution_count": 2,
   "metadata": {
    "collapsed": false
   },
   "outputs": [
    {
     "data": {
      "text/plain": [
       "bs4.BeautifulSoup"
      ]
     },
     "execution_count": 2,
     "metadata": {},
     "output_type": "execute_result"
    }
   ],
   "source": [
    "# 构造DOM TREE结构对象\n",
    "from bs4 import BeautifulSoup      #导入库\n",
    "soup = BeautifulSoup('<a>News</a>','html.parser')  #构造BeautifulSoup对象\n",
    "type(soup)   #返回对象的类型\n",
    "\n",
    "# 以文件句柄的形式传入需要转换的文档\n",
    "soup = BeautifulSoup(open(\"d:/h1.html\"),'html.parser')"
   ]
  },
  {
   "cell_type": "code",
   "execution_count": 5,
   "metadata": {
    "collapsed": false
   },
   "outputs": [],
   "source": [
    "#构造一个标签树对象soup\n",
    "from bs4 import BeautifulSoup\n",
    "html = \"\"\"\n",
    "<html><head><title>The Dormouse's story</title></head>\n",
    "<p class=\"title\"><b>The Dormouse's story</b></p>\n",
    "<p class=\"story\">Once upon a time there were three little sisters; and their names were\n",
    "<a href=\"http://example.com/elsie\" class=\"sister\" id=\"link1\">Elsie</a>,\n",
    "<a href=\"http://example.com/lacie\" class=\"sister\" id=\"link2\">Lacie</a> and\n",
    "<a href=\"http://example.com/tillie\" class=\"sister\" id=\"link3\">Tillie</a>;\n",
    "and they lived at the bottom of a well.</p>\n",
    "\n",
    "<p class=\"story\">...</p>\n",
    "\"\"\"\n",
    "soup = BeautifulSoup(html,'html.parser')"
   ]
  },
  {
   "cell_type": "markdown",
   "metadata": {},
   "source": [
    "#### 1.通过Tag对象的属性和方法提取信息"
   ]
  },
  {
   "cell_type": "code",
   "execution_count": 6,
   "metadata": {
    "collapsed": false
   },
   "outputs": [
    {
     "name": "stdout",
     "output_type": "stream",
     "text": [
      "<a class=\"sister\" href=\"http://example.com/elsie\" id=\"link1\">Elsie</a>\n",
      "a\n",
      "{'id': 'link1', 'href': 'http://example.com/elsie', 'class': ['sister']}\n",
      "Elsie\n"
     ]
    }
   ],
   "source": [
    "print(soup.a)\n",
    "print(soup.a.name)\n",
    "print(soup.a.attrs)\n",
    "print(soup.a.string)"
   ]
  },
  {
   "cell_type": "code",
   "execution_count": 10,
   "metadata": {
    "collapsed": false
   },
   "outputs": [
    {
     "data": {
      "text/plain": [
       "\"The Dormouse's story\\nThe Dormouse's story\\nOnce upon a time there were three little sisters; and their names were\\nElsie,\\nLacie and\\nTillie;\\nand they lived at the bottom of a well.\\n...\\n\""
      ]
     },
     "execution_count": 10,
     "metadata": {},
     "output_type": "execute_result"
    }
   ],
   "source": [
    "text=soup.html.get_text()\n",
    "text"
   ]
  },
  {
   "cell_type": "markdown",
   "metadata": {},
   "source": [
    "#### 2. 通过标签树对象的find_all()方法提取"
   ]
  },
  {
   "cell_type": "code",
   "execution_count": 11,
   "metadata": {
    "collapsed": false
   },
   "outputs": [
    {
     "data": {
      "text/plain": [
       "[<a class=\"sister\" href=\"http://example.com/elsie\" id=\"link1\">Elsie</a>,\n",
       " <a class=\"sister\" href=\"http://example.com/lacie\" id=\"link2\">Lacie</a>,\n",
       " <a class=\"sister\" href=\"http://example.com/tillie\" id=\"link3\">Tillie</a>]"
      ]
     },
     "execution_count": 11,
     "metadata": {},
     "output_type": "execute_result"
    }
   ],
   "source": [
    "soup.find_all('a')"
   ]
  },
  {
   "cell_type": "code",
   "execution_count": 13,
   "metadata": {
    "collapsed": false
   },
   "outputs": [
    {
     "name": "stdout",
     "output_type": "stream",
     "text": [
      "[<a class=\"sister\" href=\"http://example.com/lacie\" id=\"link2\">Lacie</a>]\n",
      "[<a class=\"sister\" href=\"http://example.com/elsie\" id=\"link1\">Elsie</a>]\n",
      "[<a class=\"sister\" href=\"http://example.com/elsie\" id=\"link1\">Elsie</a>, <a class=\"sister\" href=\"http://example.com/lacie\" id=\"link2\">Lacie</a>, <a class=\"sister\" href=\"http://example.com/tillie\" id=\"link3\">Tillie</a>]\n",
      "[<a class=\"sister\" href=\"http://example.com/elsie\" id=\"link1\">Elsie</a>]\n",
      "[<a class=\"sister\" href=\"http://example.com/elsie\" id=\"link1\">Elsie</a>, <a class=\"sister\" href=\"http://example.com/lacie\" id=\"link2\">Lacie</a>, <a class=\"sister\" href=\"http://example.com/tillie\" id=\"link3\">Tillie</a>]\n"
     ]
    }
   ],
   "source": [
    "import re\n",
    "f1=soup.find_all(id=\"link2\")\n",
    "print(f1)\n",
    "f2=soup.find_all(href=re.compile(\"elsie\"))\n",
    "print(f2)\n",
    "f3=soup.find_all(id=True)\n",
    "print(f3)\n",
    "f4=soup.find_all(href=re.compile(\"elsie\"), id='link1')\n",
    "print(f4)\n",
    "f5=soup.find_all(class_='sister')\n",
    "print(f5)\n"
   ]
  },
  {
   "cell_type": "code",
   "execution_count": 14,
   "metadata": {
    "collapsed": false
   },
   "outputs": [
    {
     "name": "stdout",
     "output_type": "stream",
     "text": [
      "[<p class=\"highlight perst\"></p>]\n",
      "[<p class=\"highlight perst\"></p>]\n",
      "[]\n"
     ]
    }
   ],
   "source": [
    "css_soup = BeautifulSoup('<p class=\"highlight perst\"></p>','html.parser')\n",
    "c1=css_soup.find_all(class_=\"perst\")\n",
    "print(c1)\n",
    "c2=css_soup.find_all( class_=\"highlight perst\")\n",
    "print(c2)\n",
    "c3=css_soup.find_all( class_=\"perst highlight\")\n",
    "print(c3)"
   ]
  },
  {
   "cell_type": "code",
   "execution_count": 16,
   "metadata": {
    "collapsed": false
   },
   "outputs": [
    {
     "name": "stdout",
     "output_type": "stream",
     "text": [
      "['Elsie']\n",
      "['Elsie', 'Lacie', 'Tillie']\n",
      "[\"The Dormouse's story\", \"The Dormouse's story\"]\n",
      "[<a class=\"sister\" href=\"http://example.com/elsie\" id=\"link1\">Elsie</a>]\n"
     ]
    }
   ],
   "source": [
    "d1=soup.find_all(text=\"Elsie\")\n",
    "print(d1)\n",
    "d2=soup.find_all(text=[\"Tillie\", \"Elsie\", \"Lacie\"])\n",
    "print(d2)\n",
    "d3=soup.find_all(text=re.compile(\"Dormouse\"))\n",
    "print(d3)\n",
    "d4=soup.find_all(\"a\", text=\"Elsie\")\n",
    "print(d4)"
   ]
  },
  {
   "cell_type": "markdown",
   "metadata": {},
   "source": [
    "#### 3. 通过标签树对象的find()方法提取"
   ]
  },
  {
   "cell_type": "code",
   "execution_count": 19,
   "metadata": {
    "collapsed": false
   },
   "outputs": [
    {
     "name": "stdout",
     "output_type": "stream",
     "text": [
      "<class 'bs4.element.Tag'>\n",
      "<class 'bs4.BeautifulSoup'>\n"
     ]
    },
    {
     "data": {
      "text/plain": [
       "<title>The Dormouse's story</title>"
      ]
     },
     "execution_count": 19,
     "metadata": {},
     "output_type": "execute_result"
    }
   ],
   "source": [
    "e1=soup.find('head')   #查找标签名为head的tag\n",
    "print(type(e1))        #返回变量e1的类型\n",
    "print(type(soup))      #返回变量soup的类型\n",
    "e1.find('title')       #在e1标签中继续查找title标签"
   ]
  },
  {
   "cell_type": "markdown",
   "metadata": {},
   "source": [
    "#### 4. 通过CSS选择器提取信息"
   ]
  },
  {
   "cell_type": "code",
   "execution_count": 23,
   "metadata": {
    "collapsed": true
   },
   "outputs": [],
   "source": [
    "from bs4 import BeautifulSoup\n",
    "html = \"\"\"\n",
    "<html>\n",
    "    <head>\n",
    "        <title>The Dormouse's story</title>\n",
    "    </head>\n",
    "    <body>\n",
    "        <p class=\"title\" name=\"dromouse\">\n",
    "            <b>The Dormouse's story</b>\n",
    "        </p>\n",
    "        <p class=\"story\">\n",
    "            Once upon a time there were three little sisters; and their names were\n",
    "            <a class=\"mysis\" href=\"http://example.com/elsie\" id=\"link1\">\n",
    "                <b>the first b tag<b>\n",
    "                Elsie\n",
    "            </a>,\n",
    "            <a class=\"mysis\" href=\"http://example.com/lacie\" id=\"link2\" myname=\"kong\">\n",
    "                Lacie\n",
    "            </a>and\n",
    "            <a class=\"mysis\" href=\"http://example.com/tillie\" id=\"link3\">\n",
    "                Tillie\n",
    "            </a>;and they lived at the bottom of a well.\n",
    "        </p>\n",
    "        <p class=\"story\">\n",
    "            myStory\n",
    "            <a>the end a tag</a>\n",
    "        </p>\n",
    "        <a>the p tag sibling</a>\n",
    "    </body>\n",
    "</html>\"\"\"\n",
    "soup = BeautifulSoup(html,'html.parser')"
   ]
  },
  {
   "cell_type": "code",
   "execution_count": null,
   "metadata": {
    "collapsed": false
   },
   "outputs": [],
   "source": [
    "soup.select('p')      #搜索所有标签名为p的标签\n",
    "soup.select('p a')    #搜索所有p标签的子孙节点中标签名为a的标签\n",
    "soup.select('p > a')  #搜索所有P标签的直接子节点中标签名为a的标签"
   ]
  },
  {
   "cell_type": "code",
   "execution_count": null,
   "metadata": {
    "collapsed": true
   },
   "outputs": [],
   "source": [
    "#搜索所有类名为story的标签\n",
    "soup.select('.story')  \n",
    "#首先搜索类名为story的标签，再在这些标签的子孙节点中搜索类名为mysis的标签\n",
    "soup.select('.story .mysis') \n",
    "#搜索标签名为a，并且类名为mysis的标签\n",
    "soup.select('a.mysis')\n",
    "#首先搜索标签名为a的标签，再在这些标签的子孙节点中搜索类名为mysis的标签\n",
    "soup.select('a .mysis')\n",
    "#首先搜索标签名为a的标签，再在这些标签的直接子节点中搜索类名为mysis的标签\n",
    "soup.select('a > .mysis')"
   ]
  },
  {
   "cell_type": "code",
   "execution_count": null,
   "metadata": {
    "collapsed": true
   },
   "outputs": [],
   "source": [
    "#搜索所有id为link2的标签\n",
    "soup.select('#link2') \n",
    "#首先搜索id为link2的标签，再在这些标签的子孙节点中搜索id为link3的标签\n",
    "soup.select('#link2 #link3')\n",
    "#搜索标签名为a，并且id为link2的标签\n",
    "soup.select('a#link2')\n",
    "#首先搜索标签名为a的标签，再在这些标签的子孙节点中搜索id为link2的标签\n",
    "soup.select('a #link2') \n",
    "#首先搜索标签名为a的标签，再在这些标签的直接子节点中搜索id为link2的标签\n",
    "soup.select('a > link2') \n",
    "#首先搜索标类为mysis的标签，再在这些标签的兄弟节点中搜索id为link2的标签\n",
    "soup.select('.mysis ~ #link2')"
   ]
  },
  {
   "cell_type": "code",
   "execution_count": null,
   "metadata": {
    "collapsed": true
   },
   "outputs": [],
   "source": [
    "# 搜索标签名为a，并且属性中存在href的所有标签\n",
    "soup.select('a[href]')\n",
    "#搜索标签名为a，并且href属性值为http://example.com/elsie的标签\n",
    "soup.select('a[href=\"http://example.com/elsie\"]')\n",
    "#搜索标签名为a，并且href属性以\"http\"开头的标签\n",
    "soup.select('a[href^=\"http\"]')\n",
    "#搜索标签名为a，并且href属性以\"elsie\"结尾的标签\n",
    "soup.select('a[href$=\"elsie\"]')\n",
    "#搜索标签名为a，并且href属性包含\"example\"的标签\n",
    "soup.select('a[href*=\"example\"]') "
   ]
  },
  {
   "cell_type": "markdown",
   "metadata": {},
   "source": [
    "### 5.3 BeautifulSoup的遍历"
   ]
  },
  {
   "cell_type": "markdown",
   "metadata": {},
   "source": [
    "#### 1.Tag对象向下遍历"
   ]
  },
  {
   "cell_type": "code",
   "execution_count": null,
   "metadata": {
    "collapsed": true
   },
   "outputs": [],
   "source": [
    "soup.p     # 输出tag对象，<p class=\"title\"><b>The Dormouse's story</b></p>\n",
    "soup.p.contents     #输出列表[<b>The Dormouse's story</b>]\n",
    "soup.p.contents[0]  #输出字节点列表中的第0个元素<b>The Dormouse's story</b>"
   ]
  },
  {
   "cell_type": "code",
   "execution_count": 25,
   "metadata": {
    "collapsed": false
   },
   "outputs": [
    {
     "name": "stdout",
     "output_type": "stream",
     "text": [
      "\n",
      "\n",
      "<b>The Dormouse's story</b>\n",
      "\n",
      "\n"
     ]
    }
   ],
   "source": [
    "for child in soup.p.children:\n",
    "    print(child)"
   ]
  },
  {
   "cell_type": "code",
   "execution_count": 26,
   "metadata": {
    "collapsed": false
   },
   "outputs": [
    {
     "name": "stdout",
     "output_type": "stream",
     "text": [
      "\n",
      "\n",
      "<b>The Dormouse's story</b>\n",
      "The Dormouse's story\n",
      "\n",
      "\n"
     ]
    }
   ],
   "source": [
    "for kid in soup.p.descendants:\n",
    "    print(kid)"
   ]
  },
  {
   "cell_type": "code",
   "execution_count": 33,
   "metadata": {
    "collapsed": false
   },
   "outputs": [
    {
     "name": "stdout",
     "output_type": "stream",
     "text": [
      "'\\n'\n",
      "'\\n'\n",
      "\"The Dormouse's story\"\n",
      "'\\n'\n",
      "'\\n'\n",
      "'\\n'\n",
      "'\\n'\n",
      "\"The Dormouse's story\"\n",
      "'\\n'\n",
      "'\\n'\n",
      "'\\n            Once upon a time there were three little sisters; and their names were\\n            '\n",
      "'\\n'\n",
      "'the first b tag'\n",
      "'\\n                Elsie\\n            '\n",
      "',\\n            '\n",
      "'\\n                Lacie\\n            '\n",
      "'and\\n            '\n",
      "'\\n                Tillie\\n            '\n",
      "';and they lived at the bottom of a well.\\n        '\n",
      "'\\n'\n",
      "'\\n            myStory\\n            '\n",
      "'the end a tag'\n",
      "'\\n'\n",
      "'\\n'\n",
      "'the p tag sibling'\n",
      "'\\n'\n",
      "'\\n'\n"
     ]
    }
   ],
   "source": [
    "for strkid in soup.html.strings:\n",
    "    print(repr(strkid))\n"
   ]
  },
  {
   "cell_type": "code",
   "execution_count": 35,
   "metadata": {
    "collapsed": false
   },
   "outputs": [
    {
     "name": "stdout",
     "output_type": "stream",
     "text": [
      "The Dormouse's story\n",
      "The Dormouse's story\n",
      "Once upon a time there were three little sisters; and their names were\n",
      "the first b tag\n",
      "Elsie\n",
      ",\n",
      "Lacie\n",
      "and\n",
      "Tillie\n",
      ";and they lived at the bottom of a well.\n",
      "myStory\n",
      "the end a tag\n",
      "the p tag sibling\n"
     ]
    }
   ],
   "source": [
    "for strkid in soup.html.stripped_strings:\n",
    "    print(strkid)"
   ]
  },
  {
   "cell_type": "markdown",
   "metadata": {},
   "source": [
    "#### 2.Tag对象向上遍历"
   ]
  },
  {
   "cell_type": "code",
   "execution_count": 37,
   "metadata": {
    "collapsed": false
   },
   "outputs": [
    {
     "data": {
      "text/plain": [
       "bs4.element.Tag"
      ]
     },
     "execution_count": 37,
     "metadata": {},
     "output_type": "execute_result"
    }
   ],
   "source": [
    "soup.b.parent\n",
    "type(soup.b.parent)\n"
   ]
  },
  {
   "cell_type": "code",
   "execution_count": 38,
   "metadata": {
    "collapsed": false
   },
   "outputs": [
    {
     "name": "stdout",
     "output_type": "stream",
     "text": [
      "p\n",
      "body\n",
      "html\n",
      "[document]\n"
     ]
    }
   ],
   "source": [
    "for parent in soup.b.parents:\n",
    "    print(parent.name)"
   ]
  },
  {
   "cell_type": "markdown",
   "metadata": {},
   "source": [
    "##### 3.Tag对象平行遍历"
   ]
  }
 ],
 "metadata": {
  "anaconda-cloud": {},
  "kernelspec": {
   "display_name": "Python [default]",
   "language": "python",
   "name": "python3"
  },
  "language_info": {
   "codemirror_mode": {
    "name": "ipython",
    "version": 3
   },
   "file_extension": ".py",
   "mimetype": "text/x-python",
   "name": "python",
   "nbconvert_exporter": "python",
   "pygments_lexer": "ipython3",
   "version": "3.5.2"
  }
 },
 "nbformat": 4,
 "nbformat_minor": 1
}
