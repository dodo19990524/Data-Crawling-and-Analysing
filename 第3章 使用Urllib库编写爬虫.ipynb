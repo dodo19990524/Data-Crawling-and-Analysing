{
 "cells": [
  {
   "cell_type": "markdown",
   "metadata": {},
   "source": [
    "### 3.1 网络爬虫概述"
   ]
  },
  {
   "cell_type": "markdown",
   "metadata": {},
   "source": [
    "### 3.2 使用urllib.request模块编写爬虫"
   ]
  },
  {
   "cell_type": "code",
   "execution_count": 2,
   "metadata": {
    "collapsed": false
   },
   "outputs": [],
   "source": [
    "#解析html源码，抽取感兴趣的数据\n",
    "import urllib.request  \n",
    "response=urllib.request.urlopen('http://www.baidu.com')  \n",
    "html=response.read()  \n",
    "print(html)\n",
    "\n",
    "file0=open(\"e:/baidu.txt\",\"wb\")\n",
    "file0.write(html)\n",
    "file0.close()"
   ]
  },
  {
   "cell_type": "code",
   "execution_count": null,
   "metadata": {
    "collapsed": true
   },
   "outputs": [],
   "source": [
    "#设置超时时长,并进行超时异常处理\n",
    "import urllib.request  \n",
    "try:        \n",
    "    response=urllib.request.urlopen('http://www.sina.com.cn/',timeout=0.01)  \n",
    "    html=response.read()  \n",
    "    print(html)\n",
    "except Exception as e:\n",
    "    print(e)"
   ]
  },
  {
   "cell_type": "markdown",
   "metadata": {},
   "source": [
    "###  3.3 修改User-Agent属性模拟浏览器访问"
   ]
  },
  {
   "cell_type": "code",
   "execution_count": null,
   "metadata": {
    "collapsed": true
   },
   "outputs": [],
   "source": [
    "#方法一：在实例化Request对象时，修改headers参数\n",
    "import urllib.request  \n",
    "url = 'http://www.baidu.com'  \n",
    "head = {}  \n",
    "head['User-Agent'] = 'Mozilla/5.0 (Windows NT 10.0; WOW64) AppleWebKit/537.36 (KHTML, like Gecko) Chrome/60.0.3112.90 Safari/537.36' \n",
    "req = urllib.request.Request(url, headers=head)\n",
    "response = urllib.request.urlopen(req)\n",
    "html = response.read()\n",
    "print(html)"
   ]
  },
  {
   "cell_type": "code",
   "execution_count": null,
   "metadata": {
    "collapsed": true
   },
   "outputs": [],
   "source": [
    "#方法二：通过Request对象的add_header()的方法，添加headers\n",
    "import urllib.request  \n",
    "url = 'http://www.baidu.com'  \n",
    "req = urllib.request.Request(url)\n",
    "req.add_header('User-Agent','Mozilla/5.0 (Windows NT 10.0; WOW64) AppleWebKit/537.36 (KHTML, like Gecko) Chrome/60.0.3112.90 Safari/537.36')\n",
    "response = urllib.request.urlopen(req)\n",
    "html = response.read()\n",
    "print(html)"
   ]
  },
  {
   "cell_type": "markdown",
   "metadata": {},
   "source": [
    "### 3.4 HTTP协议详解"
   ]
  },
  {
   "cell_type": "markdown",
   "metadata": {},
   "source": [
    "### 3.5 模拟HTTP-GET方法的爬虫"
   ]
  },
  {
   "cell_type": "code",
   "execution_count": null,
   "metadata": {
    "collapsed": true
   },
   "outputs": [],
   "source": [
    "#在知乎中抓取 “Python”搜索结果页面\n",
    "import urllib.request \n",
    "keyword='python' \n",
    "url = 'https://www.zhihu.com/search?type=content&q='+keyword\n",
    "response=urllib.request.urlopen(url)\n",
    "html=response.read()\n",
    "print(html)"
   ]
  },
  {
   "cell_type": "markdown",
   "metadata": {},
   "source": [
    "### 3.6 模拟HTTP-POST方法的爬虫"
   ]
  },
  {
   "cell_type": "code",
   "execution_count": null,
   "metadata": {
    "collapsed": true
   },
   "outputs": [],
   "source": [
    "#模拟“豆瓣”网站的用户登录的爬虫\n",
    "import urllib.request \n",
    "import urllib.parse\n",
    "request_url='https://accounts.douban.com/login'\n",
    "request_data=urllib.parse.urlencode({'form_email':'用户名','form_password':'密码'}).encode('utf-8')\n",
    "request_head = {}  \n",
    "request_head['User-Agent'] = 'Mozilla/5.0 (Windows NT 10.0; WOW64) AppleWebKit/537.36 (KHTML, like Gecko) Chrome/60.0.3112.90 Safari/537.36'\n",
    "response=urllib.request.Request(url= request_url,data=request_data,headers=request_head)\n",
    "html=urllib.request.urlopen(response).read()\n",
    "f1=open('D:/dou1.html','wb')\n",
    "f1.write(html) \n",
    "f1.close()"
   ]
  }
 ],
 "metadata": {
  "anaconda-cloud": {},
  "kernelspec": {
   "display_name": "Python [default]",
   "language": "python",
   "name": "python3"
  },
  "language_info": {
   "codemirror_mode": {
    "name": "ipython",
    "version": 3
   },
   "file_extension": ".py",
   "mimetype": "text/x-python",
   "name": "python",
   "nbconvert_exporter": "python",
   "pygments_lexer": "ipython3",
   "version": "3.5.2"
  }
 },
 "nbformat": 4,
 "nbformat_minor": 1
}
