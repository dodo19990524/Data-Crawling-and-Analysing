{
 "cells": [
  {
   "cell_type": "markdown",
   "metadata": {},
   "source": [
    "### 8.1 分组统计与转换"
   ]
  },
  {
   "cell_type": "markdown",
   "metadata": {},
   "source": [
    "#### 1.分组统计"
   ]
  },
  {
   "cell_type": "code",
   "execution_count": 46,
   "metadata": {
    "collapsed": false
   },
   "outputs": [
    {
     "data": {
      "text/html": [
       "<div>\n",
       "<table border=\"1\" class=\"dataframe\">\n",
       "  <thead>\n",
       "    <tr style=\"text-align: right;\">\n",
       "      <th></th>\n",
       "      <th>No</th>\n",
       "      <th>age</th>\n",
       "      <th>gender</th>\n",
       "      <th>gpa</th>\n",
       "      <th>major</th>\n",
       "    </tr>\n",
       "  </thead>\n",
       "  <tbody>\n",
       "    <tr>\n",
       "      <th>0</th>\n",
       "      <td>BS001</td>\n",
       "      <td>18</td>\n",
       "      <td>F</td>\n",
       "      <td>2.5</td>\n",
       "      <td>EC</td>\n",
       "    </tr>\n",
       "    <tr>\n",
       "      <th>1</th>\n",
       "      <td>BS002</td>\n",
       "      <td>21</td>\n",
       "      <td>M</td>\n",
       "      <td>2.2</td>\n",
       "      <td>TR</td>\n",
       "    </tr>\n",
       "    <tr>\n",
       "      <th>2</th>\n",
       "      <td>BS005</td>\n",
       "      <td>23</td>\n",
       "      <td>M</td>\n",
       "      <td>3.2</td>\n",
       "      <td>EC</td>\n",
       "    </tr>\n",
       "    <tr>\n",
       "      <th>3</th>\n",
       "      <td>BS007</td>\n",
       "      <td>19</td>\n",
       "      <td>M</td>\n",
       "      <td>3.1</td>\n",
       "      <td>TR</td>\n",
       "    </tr>\n",
       "    <tr>\n",
       "      <th>4</th>\n",
       "      <td>BS009</td>\n",
       "      <td>28</td>\n",
       "      <td>F</td>\n",
       "      <td>2.2</td>\n",
       "      <td>TR</td>\n",
       "    </tr>\n",
       "    <tr>\n",
       "      <th>5</th>\n",
       "      <td>BS012</td>\n",
       "      <td>22</td>\n",
       "      <td>F</td>\n",
       "      <td>2.5</td>\n",
       "      <td>EC</td>\n",
       "    </tr>\n",
       "  </tbody>\n",
       "</table>\n",
       "</div>"
      ],
      "text/plain": [
       "      No  age gender  gpa major\n",
       "0  BS001   18      F  2.5    EC\n",
       "1  BS002   21      M  2.2    TR\n",
       "2  BS005   23      M  3.2    EC\n",
       "3  BS007   19      M  3.1    TR\n",
       "4  BS009   28      F  2.2    TR\n",
       "5  BS012   22      F  2.5    EC"
      ]
     },
     "execution_count": 46,
     "metadata": {},
     "output_type": "execute_result"
    }
   ],
   "source": [
    "import pandas as pd\n",
    "d={'No':['BS001','BS002','BS005','BS007','BS009','BS012'],\n",
    "   'age':[18,21,23,19,28,22],\n",
    "   'gpa':[2.5,2.2,3.2,3.1,2.2,2.5],\n",
    "   'gender':['F','M','M','M','F','F'],\n",
    "   'major':['EC','TR','EC','TR','TR','EC']}\n",
    "s_df=pd.DataFrame(d)\n",
    "s_df"
   ]
  },
  {
   "cell_type": "code",
   "execution_count": 3,
   "metadata": {
    "collapsed": false
   },
   "outputs": [
    {
     "data": {
      "text/plain": [
       "major\n",
       "EC    21.000000\n",
       "TR    22.666667\n",
       "Name: age, dtype: float64"
      ]
     },
     "execution_count": 3,
     "metadata": {},
     "output_type": "execute_result"
    }
   ],
   "source": [
    "s_df.groupby(s_df ['major'])['age'].mean()"
   ]
  },
  {
   "cell_type": "code",
   "execution_count": 4,
   "metadata": {
    "collapsed": false
   },
   "outputs": [
    {
     "data": {
      "text/html": [
       "<div>\n",
       "<table border=\"1\" class=\"dataframe\">\n",
       "  <thead>\n",
       "    <tr style=\"text-align: right;\">\n",
       "      <th></th>\n",
       "      <th></th>\n",
       "      <th>age</th>\n",
       "      <th>gpa</th>\n",
       "    </tr>\n",
       "    <tr>\n",
       "      <th>major</th>\n",
       "      <th>gender</th>\n",
       "      <th></th>\n",
       "      <th></th>\n",
       "    </tr>\n",
       "  </thead>\n",
       "  <tbody>\n",
       "    <tr>\n",
       "      <th rowspan=\"2\" valign=\"top\">EC</th>\n",
       "      <th>F</th>\n",
       "      <td>20</td>\n",
       "      <td>2.50</td>\n",
       "    </tr>\n",
       "    <tr>\n",
       "      <th>M</th>\n",
       "      <td>23</td>\n",
       "      <td>3.20</td>\n",
       "    </tr>\n",
       "    <tr>\n",
       "      <th rowspan=\"2\" valign=\"top\">TR</th>\n",
       "      <th>F</th>\n",
       "      <td>28</td>\n",
       "      <td>2.20</td>\n",
       "    </tr>\n",
       "    <tr>\n",
       "      <th>M</th>\n",
       "      <td>20</td>\n",
       "      <td>2.65</td>\n",
       "    </tr>\n",
       "  </tbody>\n",
       "</table>\n",
       "</div>"
      ],
      "text/plain": [
       "              age   gpa\n",
       "major gender           \n",
       "EC    F        20  2.50\n",
       "      M        23  3.20\n",
       "TR    F        28  2.20\n",
       "      M        20  2.65"
      ]
     },
     "execution_count": 4,
     "metadata": {},
     "output_type": "execute_result"
    }
   ],
   "source": [
    "s_df.groupby([s_df ['major'], s_df ['gender']])[['age','gpa']].mean()"
   ]
  },
  {
   "cell_type": "code",
   "execution_count": 5,
   "metadata": {
    "collapsed": false
   },
   "outputs": [
    {
     "data": {
      "text/html": [
       "<div>\n",
       "<table border=\"1\" class=\"dataframe\">\n",
       "  <thead>\n",
       "    <tr>\n",
       "      <th></th>\n",
       "      <th colspan=\"3\" halign=\"left\">age</th>\n",
       "      <th colspan=\"3\" halign=\"left\">gpa</th>\n",
       "    </tr>\n",
       "    <tr>\n",
       "      <th></th>\n",
       "      <th>mean</th>\n",
       "      <th>std</th>\n",
       "      <th>count</th>\n",
       "      <th>mean</th>\n",
       "      <th>std</th>\n",
       "      <th>count</th>\n",
       "    </tr>\n",
       "    <tr>\n",
       "      <th>major</th>\n",
       "      <th></th>\n",
       "      <th></th>\n",
       "      <th></th>\n",
       "      <th></th>\n",
       "      <th></th>\n",
       "      <th></th>\n",
       "    </tr>\n",
       "  </thead>\n",
       "  <tbody>\n",
       "    <tr>\n",
       "      <th>EC</th>\n",
       "      <td>21.000000</td>\n",
       "      <td>2.645751</td>\n",
       "      <td>3</td>\n",
       "      <td>2.733333</td>\n",
       "      <td>0.404145</td>\n",
       "      <td>3</td>\n",
       "    </tr>\n",
       "    <tr>\n",
       "      <th>TR</th>\n",
       "      <td>22.666667</td>\n",
       "      <td>4.725816</td>\n",
       "      <td>3</td>\n",
       "      <td>2.500000</td>\n",
       "      <td>0.519615</td>\n",
       "      <td>3</td>\n",
       "    </tr>\n",
       "  </tbody>\n",
       "</table>\n",
       "</div>"
      ],
      "text/plain": [
       "             age                       gpa                \n",
       "            mean       std count      mean       std count\n",
       "major                                                     \n",
       "EC     21.000000  2.645751     3  2.733333  0.404145     3\n",
       "TR     22.666667  4.725816     3  2.500000  0.519615     3"
      ]
     },
     "execution_count": 5,
     "metadata": {},
     "output_type": "execute_result"
    }
   ],
   "source": [
    "s_df.groupby(s_df ['major'])[['age','gpa']].agg(['mean','std','count'])"
   ]
  },
  {
   "cell_type": "code",
   "execution_count": 6,
   "metadata": {
    "collapsed": false
   },
   "outputs": [
    {
     "data": {
      "text/html": [
       "<div>\n",
       "<table border=\"1\" class=\"dataframe\">\n",
       "  <thead>\n",
       "    <tr>\n",
       "      <th></th>\n",
       "      <th colspan=\"2\" halign=\"left\">age</th>\n",
       "      <th>gpa</th>\n",
       "    </tr>\n",
       "    <tr>\n",
       "      <th></th>\n",
       "      <th>age_std</th>\n",
       "      <th>age_s</th>\n",
       "      <th>gpa_c</th>\n",
       "    </tr>\n",
       "    <tr>\n",
       "      <th>major</th>\n",
       "      <th></th>\n",
       "      <th></th>\n",
       "      <th></th>\n",
       "    </tr>\n",
       "  </thead>\n",
       "  <tbody>\n",
       "    <tr>\n",
       "      <th>EC</th>\n",
       "      <td>2.645751</td>\n",
       "      <td>63</td>\n",
       "      <td>3</td>\n",
       "    </tr>\n",
       "    <tr>\n",
       "      <th>TR</th>\n",
       "      <td>4.725816</td>\n",
       "      <td>68</td>\n",
       "      <td>3</td>\n",
       "    </tr>\n",
       "  </tbody>\n",
       "</table>\n",
       "</div>"
      ],
      "text/plain": [
       "            age         gpa\n",
       "        age_std age_s gpa_c\n",
       "major                      \n",
       "EC     2.645751    63     3\n",
       "TR     4.725816    68     3"
      ]
     },
     "execution_count": 6,
     "metadata": {},
     "output_type": "execute_result"
    }
   ],
   "source": [
    "s_df.groupby(s_df['major']).agg({'age':{'age_s':'sum','age_std':'std'},'gpa':{'gpa_c':'count'}})"
   ]
  },
  {
   "cell_type": "code",
   "execution_count": 7,
   "metadata": {
    "collapsed": false
   },
   "outputs": [
    {
     "data": {
      "text/html": [
       "<div>\n",
       "<table border=\"1\" class=\"dataframe\">\n",
       "  <thead>\n",
       "    <tr style=\"text-align: right;\">\n",
       "      <th></th>\n",
       "      <th>major</th>\n",
       "      <th>age</th>\n",
       "      <th>gpa</th>\n",
       "    </tr>\n",
       "  </thead>\n",
       "  <tbody>\n",
       "    <tr>\n",
       "      <th>0</th>\n",
       "      <td>EC</td>\n",
       "      <td>21.000000</td>\n",
       "      <td>2.733333</td>\n",
       "    </tr>\n",
       "    <tr>\n",
       "      <th>1</th>\n",
       "      <td>TR</td>\n",
       "      <td>22.666667</td>\n",
       "      <td>2.500000</td>\n",
       "    </tr>\n",
       "  </tbody>\n",
       "</table>\n",
       "</div>"
      ],
      "text/plain": [
       "  major        age       gpa\n",
       "0    EC  21.000000  2.733333\n",
       "1    TR  22.666667  2.500000"
      ]
     },
     "execution_count": 7,
     "metadata": {},
     "output_type": "execute_result"
    }
   ],
   "source": [
    "s_df.groupby(s_df ['major'],as_index=False)[['age','gpa']].mean()"
   ]
  },
  {
   "cell_type": "markdown",
   "metadata": {},
   "source": [
    "#### 2.分组对象迭代与选取"
   ]
  },
  {
   "cell_type": "code",
   "execution_count": 8,
   "metadata": {
    "collapsed": false
   },
   "outputs": [
    {
     "name": "stdout",
     "output_type": "stream",
     "text": [
      "EC\n",
      "      No  age gender  gpa major\n",
      "0  BS001   18      F  2.5    EC\n",
      "2  BS005   23      M  3.2    EC\n",
      "5  BS012   22      F  2.5    EC\n",
      "TR\n",
      "      No  age gender  gpa major\n",
      "1  BS002   21      M  2.2    TR\n",
      "3  BS007   19      M  3.1    TR\n",
      "4  BS009   28      F  2.2    TR\n"
     ]
    }
   ],
   "source": [
    "mg= s_df.groupby(s_df ['major'])\n",
    "for major,group in mg:\n",
    "    print(major)\n",
    "    print(group)"
   ]
  },
  {
   "cell_type": "code",
   "execution_count": 9,
   "metadata": {
    "collapsed": false
   },
   "outputs": [
    {
     "name": "stdout",
     "output_type": "stream",
     "text": [
      "('EC', 'F')\n",
      "      No  age gender  gpa major\n",
      "0  BS001   18      F  2.5    EC\n",
      "5  BS012   22      F  2.5    EC\n",
      "('EC', 'M')\n",
      "      No  age gender  gpa major\n",
      "2  BS005   23      M  3.2    EC\n",
      "('TR', 'F')\n",
      "      No  age gender  gpa major\n",
      "4  BS009   28      F  2.2    TR\n",
      "('TR', 'M')\n",
      "      No  age gender  gpa major\n",
      "1  BS002   21      M  2.2    TR\n",
      "3  BS007   19      M  3.1    TR\n"
     ]
    }
   ],
   "source": [
    "mg2= s_df.groupby([s_df ['major'], s_df ['gender']])\n",
    "for key,group in mg2:\n",
    "    print(key)\n",
    "    print(group)"
   ]
  },
  {
   "cell_type": "code",
   "execution_count": 19,
   "metadata": {
    "collapsed": false
   },
   "outputs": [
    {
     "name": "stdout",
     "output_type": "stream",
     "text": [
      "      No  age gender  gpa major\n",
      "2  BS005   23      M  3.2    EC\n"
     ]
    }
   ],
   "source": [
    "print(mg2.get_group(('EC', 'M')))"
   ]
  },
  {
   "cell_type": "markdown",
   "metadata": {},
   "source": [
    "#### 3.分组级转换"
   ]
  },
  {
   "cell_type": "code",
   "execution_count": 21,
   "metadata": {
    "collapsed": false
   },
   "outputs": [
    {
     "data": {
      "text/html": [
       "<div>\n",
       "<table border=\"1\" class=\"dataframe\">\n",
       "  <thead>\n",
       "    <tr style=\"text-align: right;\">\n",
       "      <th></th>\n",
       "      <th>major</th>\n",
       "      <th>gpa_mean</th>\n",
       "    </tr>\n",
       "  </thead>\n",
       "  <tbody>\n",
       "    <tr>\n",
       "      <th>0</th>\n",
       "      <td>EC</td>\n",
       "      <td>2.733333</td>\n",
       "    </tr>\n",
       "    <tr>\n",
       "      <th>1</th>\n",
       "      <td>TR</td>\n",
       "      <td>2.500000</td>\n",
       "    </tr>\n",
       "  </tbody>\n",
       "</table>\n",
       "</div>"
      ],
      "text/plain": [
       "  major  gpa_mean\n",
       "0    EC  2.733333\n",
       "1    TR  2.500000"
      ]
     },
     "execution_count": 21,
     "metadata": {},
     "output_type": "execute_result"
    }
   ],
   "source": [
    "df1=s_df.groupby(s_df['major'],as_index=False)['gpa'].mean()\n",
    "df1['gpa_mean']=df1['gpa']\n",
    "del df1['gpa']\n",
    "df1"
   ]
  },
  {
   "cell_type": "code",
   "execution_count": 22,
   "metadata": {
    "collapsed": false
   },
   "outputs": [
    {
     "data": {
      "text/html": [
       "<div>\n",
       "<table border=\"1\" class=\"dataframe\">\n",
       "  <thead>\n",
       "    <tr style=\"text-align: right;\">\n",
       "      <th></th>\n",
       "      <th>No</th>\n",
       "      <th>age</th>\n",
       "      <th>gender</th>\n",
       "      <th>gpa</th>\n",
       "      <th>major</th>\n",
       "      <th>gpa_mean</th>\n",
       "      <th>gpa_r</th>\n",
       "    </tr>\n",
       "  </thead>\n",
       "  <tbody>\n",
       "    <tr>\n",
       "      <th>0</th>\n",
       "      <td>BS001</td>\n",
       "      <td>18</td>\n",
       "      <td>F</td>\n",
       "      <td>2.5</td>\n",
       "      <td>EC</td>\n",
       "      <td>2.733333</td>\n",
       "      <td>0.914634</td>\n",
       "    </tr>\n",
       "    <tr>\n",
       "      <th>1</th>\n",
       "      <td>BS005</td>\n",
       "      <td>23</td>\n",
       "      <td>M</td>\n",
       "      <td>3.2</td>\n",
       "      <td>EC</td>\n",
       "      <td>2.733333</td>\n",
       "      <td>1.170732</td>\n",
       "    </tr>\n",
       "    <tr>\n",
       "      <th>2</th>\n",
       "      <td>BS012</td>\n",
       "      <td>22</td>\n",
       "      <td>F</td>\n",
       "      <td>2.5</td>\n",
       "      <td>EC</td>\n",
       "      <td>2.733333</td>\n",
       "      <td>0.914634</td>\n",
       "    </tr>\n",
       "    <tr>\n",
       "      <th>3</th>\n",
       "      <td>BS002</td>\n",
       "      <td>21</td>\n",
       "      <td>M</td>\n",
       "      <td>2.2</td>\n",
       "      <td>TR</td>\n",
       "      <td>2.500000</td>\n",
       "      <td>0.880000</td>\n",
       "    </tr>\n",
       "    <tr>\n",
       "      <th>4</th>\n",
       "      <td>BS007</td>\n",
       "      <td>19</td>\n",
       "      <td>M</td>\n",
       "      <td>3.1</td>\n",
       "      <td>TR</td>\n",
       "      <td>2.500000</td>\n",
       "      <td>1.240000</td>\n",
       "    </tr>\n",
       "    <tr>\n",
       "      <th>5</th>\n",
       "      <td>BS009</td>\n",
       "      <td>28</td>\n",
       "      <td>F</td>\n",
       "      <td>2.2</td>\n",
       "      <td>TR</td>\n",
       "      <td>2.500000</td>\n",
       "      <td>0.880000</td>\n",
       "    </tr>\n",
       "  </tbody>\n",
       "</table>\n",
       "</div>"
      ],
      "text/plain": [
       "      No  age gender  gpa major  gpa_mean     gpa_r\n",
       "0  BS001   18      F  2.5    EC  2.733333  0.914634\n",
       "1  BS005   23      M  3.2    EC  2.733333  1.170732\n",
       "2  BS012   22      F  2.5    EC  2.733333  0.914634\n",
       "3  BS002   21      M  2.2    TR  2.500000  0.880000\n",
       "4  BS007   19      M  3.1    TR  2.500000  1.240000\n",
       "5  BS009   28      F  2.2    TR  2.500000  0.880000"
      ]
     },
     "execution_count": 22,
     "metadata": {},
     "output_type": "execute_result"
    }
   ],
   "source": [
    "df2=pd.merge(s_df,df1,on='major')\n",
    "df2['gpa_r']=df2['gpa']/df2['gpa_mean']\n",
    "df2"
   ]
  },
  {
   "cell_type": "code",
   "execution_count": 23,
   "metadata": {
    "collapsed": false
   },
   "outputs": [
    {
     "data": {
      "text/html": [
       "<div>\n",
       "<table border=\"1\" class=\"dataframe\">\n",
       "  <thead>\n",
       "    <tr style=\"text-align: right;\">\n",
       "      <th></th>\n",
       "      <th>No</th>\n",
       "      <th>age</th>\n",
       "      <th>gender</th>\n",
       "      <th>gpa</th>\n",
       "      <th>major</th>\n",
       "      <th>gpa_r</th>\n",
       "    </tr>\n",
       "  </thead>\n",
       "  <tbody>\n",
       "    <tr>\n",
       "      <th>0</th>\n",
       "      <td>BS001</td>\n",
       "      <td>18</td>\n",
       "      <td>F</td>\n",
       "      <td>2.5</td>\n",
       "      <td>EC</td>\n",
       "      <td>0.914634</td>\n",
       "    </tr>\n",
       "    <tr>\n",
       "      <th>1</th>\n",
       "      <td>BS002</td>\n",
       "      <td>21</td>\n",
       "      <td>M</td>\n",
       "      <td>2.2</td>\n",
       "      <td>TR</td>\n",
       "      <td>0.880000</td>\n",
       "    </tr>\n",
       "    <tr>\n",
       "      <th>2</th>\n",
       "      <td>BS005</td>\n",
       "      <td>23</td>\n",
       "      <td>M</td>\n",
       "      <td>3.2</td>\n",
       "      <td>EC</td>\n",
       "      <td>1.170732</td>\n",
       "    </tr>\n",
       "    <tr>\n",
       "      <th>3</th>\n",
       "      <td>BS007</td>\n",
       "      <td>19</td>\n",
       "      <td>M</td>\n",
       "      <td>3.1</td>\n",
       "      <td>TR</td>\n",
       "      <td>1.240000</td>\n",
       "    </tr>\n",
       "    <tr>\n",
       "      <th>4</th>\n",
       "      <td>BS009</td>\n",
       "      <td>28</td>\n",
       "      <td>F</td>\n",
       "      <td>2.2</td>\n",
       "      <td>TR</td>\n",
       "      <td>0.880000</td>\n",
       "    </tr>\n",
       "    <tr>\n",
       "      <th>5</th>\n",
       "      <td>BS012</td>\n",
       "      <td>22</td>\n",
       "      <td>F</td>\n",
       "      <td>2.5</td>\n",
       "      <td>EC</td>\n",
       "      <td>0.914634</td>\n",
       "    </tr>\n",
       "  </tbody>\n",
       "</table>\n",
       "</div>"
      ],
      "text/plain": [
       "      No  age gender  gpa major     gpa_r\n",
       "0  BS001   18      F  2.5    EC  0.914634\n",
       "1  BS002   21      M  2.2    TR  0.880000\n",
       "2  BS005   23      M  3.2    EC  1.170732\n",
       "3  BS007   19      M  3.1    TR  1.240000\n",
       "4  BS009   28      F  2.2    TR  0.880000\n",
       "5  BS012   22      F  2.5    EC  0.914634"
      ]
     },
     "execution_count": 23,
     "metadata": {},
     "output_type": "execute_result"
    }
   ],
   "source": [
    "s1=s_df.groupby(s_df['major'])['gpa'].transform('mean')\n",
    "s_df['gpa_r']=s_df['gpa']/s1\n",
    "s_df"
   ]
  },
  {
   "cell_type": "code",
   "execution_count": 28,
   "metadata": {
    "collapsed": false
   },
   "outputs": [
    {
     "name": "stdout",
     "output_type": "stream",
     "text": [
      "major  gender\n",
      "EC     F         2.50\n",
      "       M         3.20\n",
      "TR     F         2.20\n",
      "       M         2.65\n",
      "Name: gpa, dtype: float64\n"
     ]
    }
   ],
   "source": [
    "df1=s_df.groupby([s_df['major'],s_df['gender']])['gpa'].mean()\n",
    "print(df1)"
   ]
  },
  {
   "cell_type": "code",
   "execution_count": 29,
   "metadata": {
    "collapsed": false
   },
   "outputs": [
    {
     "name": "stdout",
     "output_type": "stream",
     "text": [
      "gender    F     M\n",
      "major            \n",
      "EC      2.5  3.20\n",
      "TR      2.2  2.65\n"
     ]
    }
   ],
   "source": [
    "df2=df1.unstack()\n",
    "print(df2)"
   ]
  },
  {
   "cell_type": "code",
   "execution_count": 30,
   "metadata": {
    "collapsed": false
   },
   "outputs": [
    {
     "data": {
      "text/plain": [
       "major  gender\n",
       "EC     F         2.50\n",
       "       M         3.20\n",
       "TR     F         2.20\n",
       "       M         2.65\n",
       "dtype: float64"
      ]
     },
     "execution_count": 30,
     "metadata": {},
     "output_type": "execute_result"
    }
   ],
   "source": [
    "df2.stack()"
   ]
  },
  {
   "cell_type": "markdown",
   "metadata": {},
   "source": [
    "#### 4.数据透视表"
   ]
  },
  {
   "cell_type": "code",
   "execution_count": 31,
   "metadata": {
    "collapsed": false
   },
   "outputs": [
    {
     "data": {
      "text/html": [
       "<div>\n",
       "<table border=\"1\" class=\"dataframe\">\n",
       "  <thead>\n",
       "    <tr style=\"text-align: right;\">\n",
       "      <th>gender</th>\n",
       "      <th>F</th>\n",
       "      <th>M</th>\n",
       "    </tr>\n",
       "    <tr>\n",
       "      <th>major</th>\n",
       "      <th></th>\n",
       "      <th></th>\n",
       "    </tr>\n",
       "  </thead>\n",
       "  <tbody>\n",
       "    <tr>\n",
       "      <th>EC</th>\n",
       "      <td>2</td>\n",
       "      <td>1</td>\n",
       "    </tr>\n",
       "    <tr>\n",
       "      <th>TR</th>\n",
       "      <td>1</td>\n",
       "      <td>2</td>\n",
       "    </tr>\n",
       "  </tbody>\n",
       "</table>\n",
       "</div>"
      ],
      "text/plain": [
       "gender  F  M\n",
       "major       \n",
       "EC      2  1\n",
       "TR      1  2"
      ]
     },
     "execution_count": 31,
     "metadata": {},
     "output_type": "execute_result"
    }
   ],
   "source": [
    "pd.pivot_table(s_df,values='No',index='major',columns='gender',aggfunc='count')"
   ]
  },
  {
   "cell_type": "markdown",
   "metadata": {},
   "source": [
    "### 8.2 缺失值处理"
   ]
  },
  {
   "cell_type": "code",
   "execution_count": 32,
   "metadata": {
    "collapsed": false
   },
   "outputs": [
    {
     "data": {
      "text/html": [
       "<div>\n",
       "<table border=\"1\" class=\"dataframe\">\n",
       "  <thead>\n",
       "    <tr style=\"text-align: right;\">\n",
       "      <th></th>\n",
       "      <th>No</th>\n",
       "      <th>age</th>\n",
       "      <th>gender</th>\n",
       "      <th>height</th>\n",
       "    </tr>\n",
       "  </thead>\n",
       "  <tbody>\n",
       "    <tr>\n",
       "      <th>0</th>\n",
       "      <td>BS001</td>\n",
       "      <td>18.0</td>\n",
       "      <td>F</td>\n",
       "      <td>1.65</td>\n",
       "    </tr>\n",
       "    <tr>\n",
       "      <th>1</th>\n",
       "      <td>BS002</td>\n",
       "      <td>21.0</td>\n",
       "      <td>M</td>\n",
       "      <td>1.75</td>\n",
       "    </tr>\n",
       "    <tr>\n",
       "      <th>2</th>\n",
       "      <td>BS005</td>\n",
       "      <td>NaN</td>\n",
       "      <td>M</td>\n",
       "      <td>1.81</td>\n",
       "    </tr>\n",
       "    <tr>\n",
       "      <th>3</th>\n",
       "      <td>BS007</td>\n",
       "      <td>19.0</td>\n",
       "      <td>NaN</td>\n",
       "      <td>NaN</td>\n",
       "    </tr>\n",
       "    <tr>\n",
       "      <th>4</th>\n",
       "      <td>BS009</td>\n",
       "      <td>NaN</td>\n",
       "      <td>NaN</td>\n",
       "      <td>NaN</td>\n",
       "    </tr>\n",
       "    <tr>\n",
       "      <th>5</th>\n",
       "      <td>BS012</td>\n",
       "      <td>22.0</td>\n",
       "      <td>NaN</td>\n",
       "      <td>1.59</td>\n",
       "    </tr>\n",
       "  </tbody>\n",
       "</table>\n",
       "</div>"
      ],
      "text/plain": [
       "      No   age gender  height\n",
       "0  BS001  18.0      F    1.65\n",
       "1  BS002  21.0      M    1.75\n",
       "2  BS005   NaN      M    1.81\n",
       "3  BS007  19.0    NaN     NaN\n",
       "4  BS009   NaN    NaN     NaN\n",
       "5  BS012  22.0    NaN    1.59"
      ]
     },
     "execution_count": 32,
     "metadata": {},
     "output_type": "execute_result"
    }
   ],
   "source": [
    "#建立一个包含缺失值的DataFrame对象\n",
    "import pandas as pd\n",
    "import numpy as np\n",
    "d={'No':['BS001','BS002','BS005','BS007','BS009','BS012'],\n",
    "   'age':[18,21,np.nan,19,np.nan,22],\n",
    "   'height':[1.65,1.75,1.81,np.nan,np.nan,1.59],\n",
    "   'gender':['F','M','M',np.nan,np.nan,np.nan]}\n",
    "df=pd.DataFrame(d)\n",
    "df"
   ]
  },
  {
   "cell_type": "markdown",
   "metadata": {},
   "source": [
    "#### 1.缺失值查询"
   ]
  },
  {
   "cell_type": "code",
   "execution_count": 36,
   "metadata": {
    "collapsed": false
   },
   "outputs": [],
   "source": [
    "na1=df['gender'].isnull() \n",
    "na2=df.isnull()   "
   ]
  },
  {
   "cell_type": "code",
   "execution_count": 38,
   "metadata": {
    "collapsed": false
   },
   "outputs": [
    {
     "data": {
      "text/plain": [
       "0    False\n",
       "1    False\n",
       "2    False\n",
       "3     True\n",
       "4     True\n",
       "5     True\n",
       "Name: gender, dtype: bool"
      ]
     },
     "execution_count": 38,
     "metadata": {},
     "output_type": "execute_result"
    }
   ],
   "source": [
    "na1"
   ]
  },
  {
   "cell_type": "code",
   "execution_count": 39,
   "metadata": {
    "collapsed": false
   },
   "outputs": [
    {
     "data": {
      "text/html": [
       "<div>\n",
       "<table border=\"1\" class=\"dataframe\">\n",
       "  <thead>\n",
       "    <tr style=\"text-align: right;\">\n",
       "      <th></th>\n",
       "      <th>No</th>\n",
       "      <th>age</th>\n",
       "      <th>gender</th>\n",
       "      <th>height</th>\n",
       "    </tr>\n",
       "  </thead>\n",
       "  <tbody>\n",
       "    <tr>\n",
       "      <th>0</th>\n",
       "      <td>False</td>\n",
       "      <td>False</td>\n",
       "      <td>False</td>\n",
       "      <td>False</td>\n",
       "    </tr>\n",
       "    <tr>\n",
       "      <th>1</th>\n",
       "      <td>False</td>\n",
       "      <td>False</td>\n",
       "      <td>False</td>\n",
       "      <td>False</td>\n",
       "    </tr>\n",
       "    <tr>\n",
       "      <th>2</th>\n",
       "      <td>False</td>\n",
       "      <td>True</td>\n",
       "      <td>False</td>\n",
       "      <td>False</td>\n",
       "    </tr>\n",
       "    <tr>\n",
       "      <th>3</th>\n",
       "      <td>False</td>\n",
       "      <td>False</td>\n",
       "      <td>True</td>\n",
       "      <td>True</td>\n",
       "    </tr>\n",
       "    <tr>\n",
       "      <th>4</th>\n",
       "      <td>False</td>\n",
       "      <td>True</td>\n",
       "      <td>True</td>\n",
       "      <td>True</td>\n",
       "    </tr>\n",
       "    <tr>\n",
       "      <th>5</th>\n",
       "      <td>False</td>\n",
       "      <td>False</td>\n",
       "      <td>True</td>\n",
       "      <td>False</td>\n",
       "    </tr>\n",
       "  </tbody>\n",
       "</table>\n",
       "</div>"
      ],
      "text/plain": [
       "      No    age gender height\n",
       "0  False  False  False  False\n",
       "1  False  False  False  False\n",
       "2  False   True  False  False\n",
       "3  False  False   True   True\n",
       "4  False   True   True   True\n",
       "5  False  False   True  False"
      ]
     },
     "execution_count": 39,
     "metadata": {},
     "output_type": "execute_result"
    }
   ],
   "source": [
    "na2"
   ]
  },
  {
   "cell_type": "markdown",
   "metadata": {},
   "source": [
    "#### 2.缺失值删除"
   ]
  },
  {
   "cell_type": "code",
   "execution_count": 40,
   "metadata": {
    "collapsed": false
   },
   "outputs": [
    {
     "data": {
      "text/html": [
       "<div>\n",
       "<table border=\"1\" class=\"dataframe\">\n",
       "  <thead>\n",
       "    <tr style=\"text-align: right;\">\n",
       "      <th></th>\n",
       "      <th>No</th>\n",
       "      <th>age</th>\n",
       "      <th>gender</th>\n",
       "      <th>height</th>\n",
       "    </tr>\n",
       "  </thead>\n",
       "  <tbody>\n",
       "    <tr>\n",
       "      <th>0</th>\n",
       "      <td>BS001</td>\n",
       "      <td>18.0</td>\n",
       "      <td>F</td>\n",
       "      <td>1.65</td>\n",
       "    </tr>\n",
       "    <tr>\n",
       "      <th>1</th>\n",
       "      <td>BS002</td>\n",
       "      <td>21.0</td>\n",
       "      <td>M</td>\n",
       "      <td>1.75</td>\n",
       "    </tr>\n",
       "  </tbody>\n",
       "</table>\n",
       "</div>"
      ],
      "text/plain": [
       "      No   age gender  height\n",
       "0  BS001  18.0      F    1.65\n",
       "1  BS002  21.0      M    1.75"
      ]
     },
     "execution_count": 40,
     "metadata": {},
     "output_type": "execute_result"
    }
   ],
   "source": [
    "df1=df.dropna()  #过滤掉有缺失值的行，df的值不改变\n",
    "df1"
   ]
  },
  {
   "cell_type": "code",
   "execution_count": 41,
   "metadata": {
    "collapsed": true
   },
   "outputs": [],
   "source": [
    "df2=df.dropna(how='all')  #只有该行上的所有属性都为缺失值才过滤\n",
    "df3=df.dropna(thresh=2)   #只有该行上大于2个属性为缺失值才过滤\n",
    "df4=df.dropna(subset=['age','height']) #该行上age或者height属性为缺失值时才过滤"
   ]
  },
  {
   "cell_type": "code",
   "execution_count": 42,
   "metadata": {
    "collapsed": false
   },
   "outputs": [
    {
     "data": {
      "text/html": [
       "<div>\n",
       "<table border=\"1\" class=\"dataframe\">\n",
       "  <thead>\n",
       "    <tr style=\"text-align: right;\">\n",
       "      <th></th>\n",
       "      <th>No</th>\n",
       "      <th>age</th>\n",
       "      <th>gender</th>\n",
       "      <th>height</th>\n",
       "    </tr>\n",
       "  </thead>\n",
       "  <tbody>\n",
       "    <tr>\n",
       "      <th>0</th>\n",
       "      <td>BS001</td>\n",
       "      <td>18.0</td>\n",
       "      <td>F</td>\n",
       "      <td>1.65</td>\n",
       "    </tr>\n",
       "    <tr>\n",
       "      <th>1</th>\n",
       "      <td>BS002</td>\n",
       "      <td>21.0</td>\n",
       "      <td>M</td>\n",
       "      <td>1.75</td>\n",
       "    </tr>\n",
       "    <tr>\n",
       "      <th>2</th>\n",
       "      <td>BS005</td>\n",
       "      <td>NaN</td>\n",
       "      <td>M</td>\n",
       "      <td>1.81</td>\n",
       "    </tr>\n",
       "    <tr>\n",
       "      <th>3</th>\n",
       "      <td>BS007</td>\n",
       "      <td>19.0</td>\n",
       "      <td>NaN</td>\n",
       "      <td>NaN</td>\n",
       "    </tr>\n",
       "    <tr>\n",
       "      <th>4</th>\n",
       "      <td>BS009</td>\n",
       "      <td>NaN</td>\n",
       "      <td>NaN</td>\n",
       "      <td>NaN</td>\n",
       "    </tr>\n",
       "    <tr>\n",
       "      <th>5</th>\n",
       "      <td>BS012</td>\n",
       "      <td>22.0</td>\n",
       "      <td>NaN</td>\n",
       "      <td>1.59</td>\n",
       "    </tr>\n",
       "  </tbody>\n",
       "</table>\n",
       "</div>"
      ],
      "text/plain": [
       "      No   age gender  height\n",
       "0  BS001  18.0      F    1.65\n",
       "1  BS002  21.0      M    1.75\n",
       "2  BS005   NaN      M    1.81\n",
       "3  BS007  19.0    NaN     NaN\n",
       "4  BS009   NaN    NaN     NaN\n",
       "5  BS012  22.0    NaN    1.59"
      ]
     },
     "execution_count": 42,
     "metadata": {},
     "output_type": "execute_result"
    }
   ],
   "source": [
    "df2"
   ]
  },
  {
   "cell_type": "code",
   "execution_count": 43,
   "metadata": {
    "collapsed": false
   },
   "outputs": [
    {
     "data": {
      "text/html": [
       "<div>\n",
       "<table border=\"1\" class=\"dataframe\">\n",
       "  <thead>\n",
       "    <tr style=\"text-align: right;\">\n",
       "      <th></th>\n",
       "      <th>No</th>\n",
       "      <th>age</th>\n",
       "      <th>gender</th>\n",
       "      <th>height</th>\n",
       "    </tr>\n",
       "  </thead>\n",
       "  <tbody>\n",
       "    <tr>\n",
       "      <th>0</th>\n",
       "      <td>BS001</td>\n",
       "      <td>18.0</td>\n",
       "      <td>F</td>\n",
       "      <td>1.65</td>\n",
       "    </tr>\n",
       "    <tr>\n",
       "      <th>1</th>\n",
       "      <td>BS002</td>\n",
       "      <td>21.0</td>\n",
       "      <td>M</td>\n",
       "      <td>1.75</td>\n",
       "    </tr>\n",
       "    <tr>\n",
       "      <th>2</th>\n",
       "      <td>BS005</td>\n",
       "      <td>NaN</td>\n",
       "      <td>M</td>\n",
       "      <td>1.81</td>\n",
       "    </tr>\n",
       "    <tr>\n",
       "      <th>3</th>\n",
       "      <td>BS007</td>\n",
       "      <td>19.0</td>\n",
       "      <td>NaN</td>\n",
       "      <td>NaN</td>\n",
       "    </tr>\n",
       "    <tr>\n",
       "      <th>5</th>\n",
       "      <td>BS012</td>\n",
       "      <td>22.0</td>\n",
       "      <td>NaN</td>\n",
       "      <td>1.59</td>\n",
       "    </tr>\n",
       "  </tbody>\n",
       "</table>\n",
       "</div>"
      ],
      "text/plain": [
       "      No   age gender  height\n",
       "0  BS001  18.0      F    1.65\n",
       "1  BS002  21.0      M    1.75\n",
       "2  BS005   NaN      M    1.81\n",
       "3  BS007  19.0    NaN     NaN\n",
       "5  BS012  22.0    NaN    1.59"
      ]
     },
     "execution_count": 43,
     "metadata": {},
     "output_type": "execute_result"
    }
   ],
   "source": [
    "df3"
   ]
  },
  {
   "cell_type": "code",
   "execution_count": 44,
   "metadata": {
    "collapsed": false
   },
   "outputs": [
    {
     "data": {
      "text/html": [
       "<div>\n",
       "<table border=\"1\" class=\"dataframe\">\n",
       "  <thead>\n",
       "    <tr style=\"text-align: right;\">\n",
       "      <th></th>\n",
       "      <th>No</th>\n",
       "      <th>age</th>\n",
       "      <th>gender</th>\n",
       "      <th>height</th>\n",
       "    </tr>\n",
       "  </thead>\n",
       "  <tbody>\n",
       "    <tr>\n",
       "      <th>0</th>\n",
       "      <td>BS001</td>\n",
       "      <td>18.0</td>\n",
       "      <td>F</td>\n",
       "      <td>1.65</td>\n",
       "    </tr>\n",
       "    <tr>\n",
       "      <th>1</th>\n",
       "      <td>BS002</td>\n",
       "      <td>21.0</td>\n",
       "      <td>M</td>\n",
       "      <td>1.75</td>\n",
       "    </tr>\n",
       "    <tr>\n",
       "      <th>5</th>\n",
       "      <td>BS012</td>\n",
       "      <td>22.0</td>\n",
       "      <td>NaN</td>\n",
       "      <td>1.59</td>\n",
       "    </tr>\n",
       "  </tbody>\n",
       "</table>\n",
       "</div>"
      ],
      "text/plain": [
       "      No   age gender  height\n",
       "0  BS001  18.0      F    1.65\n",
       "1  BS002  21.0      M    1.75\n",
       "5  BS012  22.0    NaN    1.59"
      ]
     },
     "execution_count": 44,
     "metadata": {},
     "output_type": "execute_result"
    }
   ],
   "source": [
    "df4"
   ]
  },
  {
   "cell_type": "code",
   "execution_count": 46,
   "metadata": {
    "collapsed": false
   },
   "outputs": [],
   "source": [
    "df1=df.fillna(0)\n",
    "df2=df.fillna(df.fillna(method='pad',limit=2))"
   ]
  },
  {
   "cell_type": "code",
   "execution_count": 47,
   "metadata": {
    "collapsed": false
   },
   "outputs": [
    {
     "data": {
      "text/html": [
       "<div>\n",
       "<table border=\"1\" class=\"dataframe\">\n",
       "  <thead>\n",
       "    <tr style=\"text-align: right;\">\n",
       "      <th></th>\n",
       "      <th>No</th>\n",
       "      <th>age</th>\n",
       "      <th>gender</th>\n",
       "      <th>height</th>\n",
       "    </tr>\n",
       "  </thead>\n",
       "  <tbody>\n",
       "    <tr>\n",
       "      <th>0</th>\n",
       "      <td>BS001</td>\n",
       "      <td>18.0</td>\n",
       "      <td>F</td>\n",
       "      <td>1.65</td>\n",
       "    </tr>\n",
       "    <tr>\n",
       "      <th>1</th>\n",
       "      <td>BS002</td>\n",
       "      <td>21.0</td>\n",
       "      <td>M</td>\n",
       "      <td>1.75</td>\n",
       "    </tr>\n",
       "    <tr>\n",
       "      <th>2</th>\n",
       "      <td>BS005</td>\n",
       "      <td>0.0</td>\n",
       "      <td>M</td>\n",
       "      <td>1.81</td>\n",
       "    </tr>\n",
       "    <tr>\n",
       "      <th>3</th>\n",
       "      <td>BS007</td>\n",
       "      <td>19.0</td>\n",
       "      <td>0</td>\n",
       "      <td>0.00</td>\n",
       "    </tr>\n",
       "    <tr>\n",
       "      <th>4</th>\n",
       "      <td>BS009</td>\n",
       "      <td>0.0</td>\n",
       "      <td>0</td>\n",
       "      <td>0.00</td>\n",
       "    </tr>\n",
       "    <tr>\n",
       "      <th>5</th>\n",
       "      <td>BS012</td>\n",
       "      <td>22.0</td>\n",
       "      <td>0</td>\n",
       "      <td>1.59</td>\n",
       "    </tr>\n",
       "  </tbody>\n",
       "</table>\n",
       "</div>"
      ],
      "text/plain": [
       "      No   age gender  height\n",
       "0  BS001  18.0      F    1.65\n",
       "1  BS002  21.0      M    1.75\n",
       "2  BS005   0.0      M    1.81\n",
       "3  BS007  19.0      0    0.00\n",
       "4  BS009   0.0      0    0.00\n",
       "5  BS012  22.0      0    1.59"
      ]
     },
     "execution_count": 47,
     "metadata": {},
     "output_type": "execute_result"
    }
   ],
   "source": [
    "df1"
   ]
  },
  {
   "cell_type": "code",
   "execution_count": 48,
   "metadata": {
    "collapsed": false
   },
   "outputs": [
    {
     "data": {
      "text/html": [
       "<div>\n",
       "<table border=\"1\" class=\"dataframe\">\n",
       "  <thead>\n",
       "    <tr style=\"text-align: right;\">\n",
       "      <th></th>\n",
       "      <th>No</th>\n",
       "      <th>age</th>\n",
       "      <th>gender</th>\n",
       "      <th>height</th>\n",
       "    </tr>\n",
       "  </thead>\n",
       "  <tbody>\n",
       "    <tr>\n",
       "      <th>0</th>\n",
       "      <td>BS001</td>\n",
       "      <td>18.0</td>\n",
       "      <td>F</td>\n",
       "      <td>1.65</td>\n",
       "    </tr>\n",
       "    <tr>\n",
       "      <th>1</th>\n",
       "      <td>BS002</td>\n",
       "      <td>21.0</td>\n",
       "      <td>M</td>\n",
       "      <td>1.75</td>\n",
       "    </tr>\n",
       "    <tr>\n",
       "      <th>2</th>\n",
       "      <td>BS005</td>\n",
       "      <td>21.0</td>\n",
       "      <td>M</td>\n",
       "      <td>1.81</td>\n",
       "    </tr>\n",
       "    <tr>\n",
       "      <th>3</th>\n",
       "      <td>BS007</td>\n",
       "      <td>19.0</td>\n",
       "      <td>M</td>\n",
       "      <td>1.81</td>\n",
       "    </tr>\n",
       "    <tr>\n",
       "      <th>4</th>\n",
       "      <td>BS009</td>\n",
       "      <td>19.0</td>\n",
       "      <td>M</td>\n",
       "      <td>1.81</td>\n",
       "    </tr>\n",
       "    <tr>\n",
       "      <th>5</th>\n",
       "      <td>BS012</td>\n",
       "      <td>22.0</td>\n",
       "      <td>NaN</td>\n",
       "      <td>1.59</td>\n",
       "    </tr>\n",
       "  </tbody>\n",
       "</table>\n",
       "</div>"
      ],
      "text/plain": [
       "      No   age gender  height\n",
       "0  BS001  18.0      F    1.65\n",
       "1  BS002  21.0      M    1.75\n",
       "2  BS005  21.0      M    1.81\n",
       "3  BS007  19.0      M    1.81\n",
       "4  BS009  19.0      M    1.81\n",
       "5  BS012  22.0    NaN    1.59"
      ]
     },
     "execution_count": 48,
     "metadata": {},
     "output_type": "execute_result"
    }
   ],
   "source": [
    "df2"
   ]
  },
  {
   "cell_type": "code",
   "execution_count": 49,
   "metadata": {
    "collapsed": false
   },
   "outputs": [
    {
     "data": {
      "text/html": [
       "<div>\n",
       "<table border=\"1\" class=\"dataframe\">\n",
       "  <thead>\n",
       "    <tr style=\"text-align: right;\">\n",
       "      <th></th>\n",
       "      <th>No</th>\n",
       "      <th>age</th>\n",
       "      <th>gender</th>\n",
       "      <th>height</th>\n",
       "    </tr>\n",
       "  </thead>\n",
       "  <tbody>\n",
       "    <tr>\n",
       "      <th>0</th>\n",
       "      <td>BS001</td>\n",
       "      <td>18.0</td>\n",
       "      <td>F</td>\n",
       "      <td>1.65</td>\n",
       "    </tr>\n",
       "    <tr>\n",
       "      <th>1</th>\n",
       "      <td>BS002</td>\n",
       "      <td>21.0</td>\n",
       "      <td>M</td>\n",
       "      <td>1.75</td>\n",
       "    </tr>\n",
       "    <tr>\n",
       "      <th>2</th>\n",
       "      <td>BS005</td>\n",
       "      <td>20.0</td>\n",
       "      <td>M</td>\n",
       "      <td>1.81</td>\n",
       "    </tr>\n",
       "    <tr>\n",
       "      <th>3</th>\n",
       "      <td>BS007</td>\n",
       "      <td>19.0</td>\n",
       "      <td>20</td>\n",
       "      <td>20.00</td>\n",
       "    </tr>\n",
       "    <tr>\n",
       "      <th>4</th>\n",
       "      <td>BS009</td>\n",
       "      <td>20.0</td>\n",
       "      <td>20</td>\n",
       "      <td>20.00</td>\n",
       "    </tr>\n",
       "    <tr>\n",
       "      <th>5</th>\n",
       "      <td>BS012</td>\n",
       "      <td>22.0</td>\n",
       "      <td>20</td>\n",
       "      <td>1.59</td>\n",
       "    </tr>\n",
       "  </tbody>\n",
       "</table>\n",
       "</div>"
      ],
      "text/plain": [
       "      No   age gender  height\n",
       "0  BS001  18.0      F    1.65\n",
       "1  BS002  21.0      M    1.75\n",
       "2  BS005  20.0      M    1.81\n",
       "3  BS007  19.0     20   20.00\n",
       "4  BS009  20.0     20   20.00\n",
       "5  BS012  22.0     20    1.59"
      ]
     },
     "execution_count": 49,
     "metadata": {},
     "output_type": "execute_result"
    }
   ],
   "source": [
    "df.fillna(df['age'].mean())   #只返回填充后的副本，并不改变df的值"
   ]
  },
  {
   "cell_type": "markdown",
   "metadata": {},
   "source": [
    "### 8.3 时间序列数据处理"
   ]
  },
  {
   "cell_type": "markdown",
   "metadata": {},
   "source": [
    "#### 1.Python的日期时间类型"
   ]
  },
  {
   "cell_type": "code",
   "execution_count": 53,
   "metadata": {
    "collapsed": false
   },
   "outputs": [
    {
     "data": {
      "text/plain": [
       "datetime.datetime(2018, 6, 9, 20, 33, 42, 763920)"
      ]
     },
     "execution_count": 53,
     "metadata": {},
     "output_type": "execute_result"
    }
   ],
   "source": [
    "import datetime as dt\n",
    "dt.datetime.now()  #以datetime数据类型返回系统当前日期时间"
   ]
  },
  {
   "cell_type": "code",
   "execution_count": 54,
   "metadata": {
    "collapsed": false
   },
   "outputs": [
    {
     "data": {
      "text/plain": [
       "datetime.datetime(2018, 2, 19, 12, 0)"
      ]
     },
     "execution_count": 54,
     "metadata": {},
     "output_type": "execute_result"
    }
   ],
   "source": [
    "dt.datetime(2018,2,19,12)  #返回datetime类型的日期时间"
   ]
  },
  {
   "cell_type": "code",
   "execution_count": 55,
   "metadata": {
    "collapsed": false
   },
   "outputs": [
    {
     "data": {
      "text/plain": [
       "datetime.timedelta(71, 50400)"
      ]
     },
     "execution_count": 55,
     "metadata": {},
     "output_type": "execute_result"
    }
   ],
   "source": [
    "dt.datetime(2018,6,1,12)-dt.datetime(2018,3,21,22)   #计算两个日期时间之差，返回timedelta类型数据"
   ]
  },
  {
   "cell_type": "code",
   "execution_count": 56,
   "metadata": {
    "collapsed": false
   },
   "outputs": [
    {
     "data": {
      "text/plain": [
       "datetime.datetime(2018, 12, 31, 13, 24, 51)"
      ]
     },
     "execution_count": 56,
     "metadata": {},
     "output_type": "execute_result"
    }
   ],
   "source": [
    "t='2018-12-31 13:24:51' \n",
    "dt.datetime.strptime(t,'%Y-%m-%d %H:%M:%S')       #将字符串转换胃datetime类型"
   ]
  },
  {
   "cell_type": "markdown",
   "metadata": {},
   "source": [
    "#### 2.pandas中时间序列数据类型"
   ]
  },
  {
   "cell_type": "code",
   "execution_count": 57,
   "metadata": {
    "collapsed": false
   },
   "outputs": [
    {
     "data": {
      "text/plain": [
       "Timestamp('2018-05-01 00:00:00')"
      ]
     },
     "execution_count": 57,
     "metadata": {},
     "output_type": "execute_result"
    }
   ],
   "source": [
    "pd.Timestamp(dt.datetime(2012,5,1,12,23,33))\n",
    "pd.Timestamp('2018/05/01')\n",
    "pd.Timestamp('05/01/18 12:23:41')\n",
    "pd.Timestamp('2018-05-01')"
   ]
  },
  {
   "cell_type": "code",
   "execution_count": 58,
   "metadata": {
    "collapsed": false
   },
   "outputs": [
    {
     "data": {
      "text/plain": [
       "pandas.tseries.index.DatetimeIndex"
      ]
     },
     "execution_count": 58,
     "metadata": {},
     "output_type": "execute_result"
    }
   ],
   "source": [
    "dates = [pd.Timestamp('2018-06-01'), pd.Timestamp('2018-06-02'), pd.Timestamp('2018-06-03')]  #由timestamp数据构成的列表\n",
    "ts = pd.Series([12.1,12.5,12.4], index=dates)  #该series的index为timestamp类型的日期\n",
    "type(ts.index) #返回ts索引的类型"
   ]
  },
  {
   "cell_type": "code",
   "execution_count": 59,
   "metadata": {
    "collapsed": false
   },
   "outputs": [
    {
     "data": {
      "text/plain": [
       "Timestamp('2018-06-01 00:00:00')"
      ]
     },
     "execution_count": 59,
     "metadata": {},
     "output_type": "execute_result"
    }
   ],
   "source": [
    "pd.to_datetime('2018/06/01') "
   ]
  },
  {
   "cell_type": "code",
   "execution_count": 60,
   "metadata": {
    "collapsed": false
   },
   "outputs": [
    {
     "data": {
      "text/plain": [
       "0   2018-03-01\n",
       "1   2018-09-10\n",
       "2   2018-05-01\n",
       "dtype: datetime64[ns]"
      ]
     },
     "execution_count": 60,
     "metadata": {},
     "output_type": "execute_result"
    }
   ],
   "source": [
    "pd.to_datetime(pd.Series(['2018/03/01', '2018-09-10', '05/01/18']))"
   ]
  },
  {
   "cell_type": "code",
   "execution_count": 61,
   "metadata": {
    "collapsed": false
   },
   "outputs": [
    {
     "data": {
      "text/plain": [
       "DatetimeIndex(['2018-11-23', '2018-12-31', '2018-06-01'], dtype='datetime64[ns]', freq=None)"
      ]
     },
     "execution_count": 61,
     "metadata": {},
     "output_type": "execute_result"
    }
   ],
   "source": [
    "pd.to_datetime(['2018/11/23', '2018.12.31','06-01-18'])"
   ]
  },
  {
   "cell_type": "code",
   "execution_count": 62,
   "metadata": {
    "collapsed": false
   },
   "outputs": [
    {
     "data": {
      "text/html": [
       "<div>\n",
       "<table border=\"1\" class=\"dataframe\">\n",
       "  <thead>\n",
       "    <tr style=\"text-align: right;\">\n",
       "      <th></th>\n",
       "      <th>date</th>\n",
       "      <th>high</th>\n",
       "      <th>low</th>\n",
       "    </tr>\n",
       "  </thead>\n",
       "  <tbody>\n",
       "    <tr>\n",
       "      <th>0</th>\n",
       "      <td>2018-01-01</td>\n",
       "      <td>23</td>\n",
       "      <td>11</td>\n",
       "    </tr>\n",
       "    <tr>\n",
       "      <th>1</th>\n",
       "      <td>2018-02-03</td>\n",
       "      <td>21</td>\n",
       "      <td>13</td>\n",
       "    </tr>\n",
       "    <tr>\n",
       "      <th>2</th>\n",
       "      <td>2018/03/04</td>\n",
       "      <td>22</td>\n",
       "      <td>11</td>\n",
       "    </tr>\n",
       "    <tr>\n",
       "      <th>3</th>\n",
       "      <td>2018.12.4</td>\n",
       "      <td>21</td>\n",
       "      <td>18</td>\n",
       "    </tr>\n",
       "  </tbody>\n",
       "</table>\n",
       "</div>"
      ],
      "text/plain": [
       "         date high low\n",
       "0  2018-01-01   23  11\n",
       "1  2018-02-03   21  13\n",
       "2  2018/03/04   22  11\n",
       "3   2018.12.4   21  18"
      ]
     },
     "execution_count": 62,
     "metadata": {},
     "output_type": "execute_result"
    }
   ],
   "source": [
    "df = pd.DataFrame({'date': ['2018-01-01', '2018-02-03', '2018/03/04', '2018.12.4'],\n",
    "                    'low': ['11', '13', '11', '18'],\n",
    "                    'high': ['23', '21', '22', '21']})\n",
    "df"
   ]
  },
  {
   "cell_type": "code",
   "execution_count": 63,
   "metadata": {
    "collapsed": false
   },
   "outputs": [
    {
     "data": {
      "text/html": [
       "<div>\n",
       "<table border=\"1\" class=\"dataframe\">\n",
       "  <thead>\n",
       "    <tr style=\"text-align: right;\">\n",
       "      <th></th>\n",
       "      <th>high</th>\n",
       "      <th>low</th>\n",
       "    </tr>\n",
       "    <tr>\n",
       "      <th>date</th>\n",
       "      <th></th>\n",
       "      <th></th>\n",
       "    </tr>\n",
       "  </thead>\n",
       "  <tbody>\n",
       "    <tr>\n",
       "      <th>2018-01-01</th>\n",
       "      <td>23</td>\n",
       "      <td>11</td>\n",
       "    </tr>\n",
       "    <tr>\n",
       "      <th>2018-02-03</th>\n",
       "      <td>21</td>\n",
       "      <td>13</td>\n",
       "    </tr>\n",
       "    <tr>\n",
       "      <th>2018-03-04</th>\n",
       "      <td>22</td>\n",
       "      <td>11</td>\n",
       "    </tr>\n",
       "    <tr>\n",
       "      <th>2018-12-04</th>\n",
       "      <td>21</td>\n",
       "      <td>18</td>\n",
       "    </tr>\n",
       "  </tbody>\n",
       "</table>\n",
       "</div>"
      ],
      "text/plain": [
       "           high low\n",
       "date               \n",
       "2018-01-01   23  11\n",
       "2018-02-03   21  13\n",
       "2018-03-04   22  11\n",
       "2018-12-04   21  18"
      ]
     },
     "execution_count": 63,
     "metadata": {},
     "output_type": "execute_result"
    }
   ],
   "source": [
    "#将df转换成时间序列dataframe\n",
    "df['date']=pd.to_datetime(df['date'])\n",
    "df.set_index('date',inplace=True)\n",
    "df"
   ]
  },
  {
   "cell_type": "markdown",
   "metadata": {},
   "source": [
    "#### 3.时间序列的切片与分组聚合"
   ]
  },
  {
   "cell_type": "code",
   "execution_count": 47,
   "metadata": {
    "collapsed": false
   },
   "outputs": [
    {
     "data": {
      "text/html": [
       "<div>\n",
       "<table border=\"1\" class=\"dataframe\">\n",
       "  <thead>\n",
       "    <tr style=\"text-align: right;\">\n",
       "      <th></th>\n",
       "      <th>Bei</th>\n",
       "      <th>Shang</th>\n",
       "      <th>Guang</th>\n",
       "    </tr>\n",
       "  </thead>\n",
       "  <tbody>\n",
       "    <tr>\n",
       "      <th>2018-01-01</th>\n",
       "      <td>1.240654</td>\n",
       "      <td>-1.029238</td>\n",
       "      <td>0.129478</td>\n",
       "    </tr>\n",
       "    <tr>\n",
       "      <th>2018-01-02</th>\n",
       "      <td>0.201750</td>\n",
       "      <td>-0.652494</td>\n",
       "      <td>0.241718</td>\n",
       "    </tr>\n",
       "    <tr>\n",
       "      <th>2018-01-03</th>\n",
       "      <td>-0.317372</td>\n",
       "      <td>1.171325</td>\n",
       "      <td>-0.825837</td>\n",
       "    </tr>\n",
       "    <tr>\n",
       "      <th>2018-01-04</th>\n",
       "      <td>0.064590</td>\n",
       "      <td>-1.518789</td>\n",
       "      <td>-0.477995</td>\n",
       "    </tr>\n",
       "    <tr>\n",
       "      <th>2018-01-05</th>\n",
       "      <td>-0.451146</td>\n",
       "      <td>-0.920303</td>\n",
       "      <td>-1.029566</td>\n",
       "    </tr>\n",
       "  </tbody>\n",
       "</table>\n",
       "</div>"
      ],
      "text/plain": [
       "                 Bei     Shang     Guang\n",
       "2018-01-01  1.240654 -1.029238  0.129478\n",
       "2018-01-02  0.201750 -0.652494  0.241718\n",
       "2018-01-03 -0.317372  1.171325 -0.825837\n",
       "2018-01-04  0.064590 -1.518789 -0.477995\n",
       "2018-01-05 -0.451146 -0.920303 -1.029566"
      ]
     },
     "execution_count": 47,
     "metadata": {},
     "output_type": "execute_result"
    }
   ],
   "source": [
    "import numpy as np\n",
    "import pandas as pd\n",
    "dates=pd.date_range('2018/1/1', periods=100, freq='D')  \n",
    "dfday=pd.DataFrame(np.random.randn(100,3),index=dates,columns=['Bei','Shang','Guang'])\n",
    "dfday.head()  #显示前5行"
   ]
  },
  {
   "cell_type": "code",
   "execution_count": 65,
   "metadata": {
    "collapsed": false
   },
   "outputs": [
    {
     "data": {
      "text/html": [
       "<div>\n",
       "<table border=\"1\" class=\"dataframe\">\n",
       "  <thead>\n",
       "    <tr style=\"text-align: right;\">\n",
       "      <th></th>\n",
       "      <th>Bei</th>\n",
       "      <th>Shang</th>\n",
       "      <th>Guang</th>\n",
       "    </tr>\n",
       "  </thead>\n",
       "  <tbody>\n",
       "    <tr>\n",
       "      <th>2018-01-03</th>\n",
       "      <td>0.962318</td>\n",
       "      <td>-0.097655</td>\n",
       "      <td>-1.746196</td>\n",
       "    </tr>\n",
       "    <tr>\n",
       "      <th>2018-01-04</th>\n",
       "      <td>-0.823945</td>\n",
       "      <td>1.437141</td>\n",
       "      <td>-0.698581</td>\n",
       "    </tr>\n",
       "    <tr>\n",
       "      <th>2018-01-05</th>\n",
       "      <td>-1.964184</td>\n",
       "      <td>0.002612</td>\n",
       "      <td>1.776472</td>\n",
       "    </tr>\n",
       "    <tr>\n",
       "      <th>2018-01-06</th>\n",
       "      <td>-0.242118</td>\n",
       "      <td>-1.811039</td>\n",
       "      <td>-2.427404</td>\n",
       "    </tr>\n",
       "  </tbody>\n",
       "</table>\n",
       "</div>"
      ],
      "text/plain": [
       "                 Bei     Shang     Guang\n",
       "2018-01-03  0.962318 -0.097655 -1.746196\n",
       "2018-01-04 -0.823945  1.437141 -0.698581\n",
       "2018-01-05 -1.964184  0.002612  1.776472\n",
       "2018-01-06 -0.242118 -1.811039 -2.427404"
      ]
     },
     "execution_count": 65,
     "metadata": {},
     "output_type": "execute_result"
    }
   ],
   "source": [
    "dfday.loc['2018/1/3':'2018/1/6']"
   ]
  },
  {
   "cell_type": "code",
   "execution_count": 66,
   "metadata": {
    "collapsed": false
   },
   "outputs": [
    {
     "data": {
      "text/html": [
       "<div>\n",
       "<table border=\"1\" class=\"dataframe\">\n",
       "  <thead>\n",
       "    <tr style=\"text-align: right;\">\n",
       "      <th></th>\n",
       "      <th>Bei</th>\n",
       "      <th>Shang</th>\n",
       "      <th>Guang</th>\n",
       "    </tr>\n",
       "  </thead>\n",
       "  <tbody>\n",
       "    <tr>\n",
       "      <th>2018-03-01</th>\n",
       "      <td>0.792158</td>\n",
       "      <td>-0.787224</td>\n",
       "      <td>1.422924</td>\n",
       "    </tr>\n",
       "    <tr>\n",
       "      <th>2018-03-02</th>\n",
       "      <td>-0.876822</td>\n",
       "      <td>-0.348645</td>\n",
       "      <td>-0.342914</td>\n",
       "    </tr>\n",
       "    <tr>\n",
       "      <th>2018-03-03</th>\n",
       "      <td>0.646697</td>\n",
       "      <td>0.092618</td>\n",
       "      <td>-0.521042</td>\n",
       "    </tr>\n",
       "    <tr>\n",
       "      <th>2018-03-04</th>\n",
       "      <td>1.666643</td>\n",
       "      <td>0.143356</td>\n",
       "      <td>0.486601</td>\n",
       "    </tr>\n",
       "    <tr>\n",
       "      <th>2018-03-05</th>\n",
       "      <td>-0.497939</td>\n",
       "      <td>-1.030978</td>\n",
       "      <td>0.353444</td>\n",
       "    </tr>\n",
       "    <tr>\n",
       "      <th>2018-03-06</th>\n",
       "      <td>-0.483152</td>\n",
       "      <td>0.853170</td>\n",
       "      <td>-2.217666</td>\n",
       "    </tr>\n",
       "    <tr>\n",
       "      <th>2018-03-07</th>\n",
       "      <td>-1.274816</td>\n",
       "      <td>0.712973</td>\n",
       "      <td>-0.904413</td>\n",
       "    </tr>\n",
       "    <tr>\n",
       "      <th>2018-03-08</th>\n",
       "      <td>-0.503950</td>\n",
       "      <td>-1.008773</td>\n",
       "      <td>1.770128</td>\n",
       "    </tr>\n",
       "    <tr>\n",
       "      <th>2018-03-09</th>\n",
       "      <td>0.286408</td>\n",
       "      <td>0.500595</td>\n",
       "      <td>-0.184127</td>\n",
       "    </tr>\n",
       "    <tr>\n",
       "      <th>2018-03-10</th>\n",
       "      <td>0.841758</td>\n",
       "      <td>1.674314</td>\n",
       "      <td>-1.009798</td>\n",
       "    </tr>\n",
       "    <tr>\n",
       "      <th>2018-03-11</th>\n",
       "      <td>0.913416</td>\n",
       "      <td>-0.876374</td>\n",
       "      <td>-0.513152</td>\n",
       "    </tr>\n",
       "    <tr>\n",
       "      <th>2018-03-12</th>\n",
       "      <td>0.445486</td>\n",
       "      <td>-0.866762</td>\n",
       "      <td>1.175487</td>\n",
       "    </tr>\n",
       "    <tr>\n",
       "      <th>2018-03-13</th>\n",
       "      <td>-0.988562</td>\n",
       "      <td>-1.037942</td>\n",
       "      <td>-0.098641</td>\n",
       "    </tr>\n",
       "    <tr>\n",
       "      <th>2018-03-14</th>\n",
       "      <td>0.118504</td>\n",
       "      <td>1.016772</td>\n",
       "      <td>3.443052</td>\n",
       "    </tr>\n",
       "    <tr>\n",
       "      <th>2018-03-15</th>\n",
       "      <td>-0.378521</td>\n",
       "      <td>-0.941862</td>\n",
       "      <td>1.240451</td>\n",
       "    </tr>\n",
       "    <tr>\n",
       "      <th>2018-03-16</th>\n",
       "      <td>0.520215</td>\n",
       "      <td>-0.206623</td>\n",
       "      <td>0.469757</td>\n",
       "    </tr>\n",
       "    <tr>\n",
       "      <th>2018-03-17</th>\n",
       "      <td>0.983279</td>\n",
       "      <td>1.351220</td>\n",
       "      <td>0.857771</td>\n",
       "    </tr>\n",
       "    <tr>\n",
       "      <th>2018-03-18</th>\n",
       "      <td>-0.313391</td>\n",
       "      <td>-0.555311</td>\n",
       "      <td>0.854656</td>\n",
       "    </tr>\n",
       "    <tr>\n",
       "      <th>2018-03-19</th>\n",
       "      <td>-1.113399</td>\n",
       "      <td>1.167800</td>\n",
       "      <td>-0.171111</td>\n",
       "    </tr>\n",
       "    <tr>\n",
       "      <th>2018-03-20</th>\n",
       "      <td>2.724658</td>\n",
       "      <td>0.074040</td>\n",
       "      <td>-0.105676</td>\n",
       "    </tr>\n",
       "    <tr>\n",
       "      <th>2018-03-21</th>\n",
       "      <td>1.086860</td>\n",
       "      <td>-0.683650</td>\n",
       "      <td>1.167911</td>\n",
       "    </tr>\n",
       "    <tr>\n",
       "      <th>2018-03-22</th>\n",
       "      <td>1.528275</td>\n",
       "      <td>-0.845213</td>\n",
       "      <td>0.276650</td>\n",
       "    </tr>\n",
       "    <tr>\n",
       "      <th>2018-03-23</th>\n",
       "      <td>0.809225</td>\n",
       "      <td>0.067985</td>\n",
       "      <td>1.862065</td>\n",
       "    </tr>\n",
       "    <tr>\n",
       "      <th>2018-03-24</th>\n",
       "      <td>0.339762</td>\n",
       "      <td>0.845285</td>\n",
       "      <td>1.286774</td>\n",
       "    </tr>\n",
       "    <tr>\n",
       "      <th>2018-03-25</th>\n",
       "      <td>0.132988</td>\n",
       "      <td>0.199610</td>\n",
       "      <td>-0.359619</td>\n",
       "    </tr>\n",
       "    <tr>\n",
       "      <th>2018-03-26</th>\n",
       "      <td>-1.808717</td>\n",
       "      <td>-1.321488</td>\n",
       "      <td>-0.359612</td>\n",
       "    </tr>\n",
       "    <tr>\n",
       "      <th>2018-03-27</th>\n",
       "      <td>-0.910146</td>\n",
       "      <td>-1.519512</td>\n",
       "      <td>-0.852322</td>\n",
       "    </tr>\n",
       "    <tr>\n",
       "      <th>2018-03-28</th>\n",
       "      <td>0.407958</td>\n",
       "      <td>0.091839</td>\n",
       "      <td>-0.093493</td>\n",
       "    </tr>\n",
       "    <tr>\n",
       "      <th>2018-03-29</th>\n",
       "      <td>-0.286149</td>\n",
       "      <td>2.091466</td>\n",
       "      <td>2.979766</td>\n",
       "    </tr>\n",
       "    <tr>\n",
       "      <th>2018-03-30</th>\n",
       "      <td>0.543528</td>\n",
       "      <td>0.040431</td>\n",
       "      <td>-0.629457</td>\n",
       "    </tr>\n",
       "    <tr>\n",
       "      <th>2018-03-31</th>\n",
       "      <td>-0.351318</td>\n",
       "      <td>0.928468</td>\n",
       "      <td>2.069969</td>\n",
       "    </tr>\n",
       "  </tbody>\n",
       "</table>\n",
       "</div>"
      ],
      "text/plain": [
       "                 Bei     Shang     Guang\n",
       "2018-03-01  0.792158 -0.787224  1.422924\n",
       "2018-03-02 -0.876822 -0.348645 -0.342914\n",
       "2018-03-03  0.646697  0.092618 -0.521042\n",
       "2018-03-04  1.666643  0.143356  0.486601\n",
       "2018-03-05 -0.497939 -1.030978  0.353444\n",
       "2018-03-06 -0.483152  0.853170 -2.217666\n",
       "2018-03-07 -1.274816  0.712973 -0.904413\n",
       "2018-03-08 -0.503950 -1.008773  1.770128\n",
       "2018-03-09  0.286408  0.500595 -0.184127\n",
       "2018-03-10  0.841758  1.674314 -1.009798\n",
       "2018-03-11  0.913416 -0.876374 -0.513152\n",
       "2018-03-12  0.445486 -0.866762  1.175487\n",
       "2018-03-13 -0.988562 -1.037942 -0.098641\n",
       "2018-03-14  0.118504  1.016772  3.443052\n",
       "2018-03-15 -0.378521 -0.941862  1.240451\n",
       "2018-03-16  0.520215 -0.206623  0.469757\n",
       "2018-03-17  0.983279  1.351220  0.857771\n",
       "2018-03-18 -0.313391 -0.555311  0.854656\n",
       "2018-03-19 -1.113399  1.167800 -0.171111\n",
       "2018-03-20  2.724658  0.074040 -0.105676\n",
       "2018-03-21  1.086860 -0.683650  1.167911\n",
       "2018-03-22  1.528275 -0.845213  0.276650\n",
       "2018-03-23  0.809225  0.067985  1.862065\n",
       "2018-03-24  0.339762  0.845285  1.286774\n",
       "2018-03-25  0.132988  0.199610 -0.359619\n",
       "2018-03-26 -1.808717 -1.321488 -0.359612\n",
       "2018-03-27 -0.910146 -1.519512 -0.852322\n",
       "2018-03-28  0.407958  0.091839 -0.093493\n",
       "2018-03-29 -0.286149  2.091466  2.979766\n",
       "2018-03-30  0.543528  0.040431 -0.629457\n",
       "2018-03-31 -0.351318  0.928468  2.069969"
      ]
     },
     "execution_count": 66,
     "metadata": {},
     "output_type": "execute_result"
    }
   ],
   "source": [
    "dfday.loc['2018'] #引用2018年全年的数据\n",
    "dfday.loc['2018/03'] #引用2018年3月的数据"
   ]
  },
  {
   "cell_type": "code",
   "execution_count": 67,
   "metadata": {
    "collapsed": false
   },
   "outputs": [
    {
     "data": {
      "text/html": [
       "<div>\n",
       "<table border=\"1\" class=\"dataframe\">\n",
       "  <thead>\n",
       "    <tr style=\"text-align: right;\">\n",
       "      <th></th>\n",
       "      <th>high</th>\n",
       "      <th>low</th>\n",
       "    </tr>\n",
       "    <tr>\n",
       "      <th>date</th>\n",
       "      <th></th>\n",
       "      <th></th>\n",
       "    </tr>\n",
       "  </thead>\n",
       "  <tbody>\n",
       "    <tr>\n",
       "      <th>2018-01-01</th>\n",
       "      <td>2</td>\n",
       "      <td>2</td>\n",
       "    </tr>\n",
       "    <tr>\n",
       "      <th>2018-02-04</th>\n",
       "      <td>2</td>\n",
       "      <td>2</td>\n",
       "    </tr>\n",
       "  </tbody>\n",
       "</table>\n",
       "</div>"
      ],
      "text/plain": [
       "            high  low\n",
       "date                 \n",
       "2018-01-01     2    2\n",
       "2018-02-04     2    2"
      ]
     },
     "execution_count": 67,
     "metadata": {},
     "output_type": "execute_result"
    }
   ],
   "source": [
    "df = pd.DataFrame({'date': ['2018-01-01', '2018-01-01', '2018/02/04', '2018.2.4'],\n",
    "                    'low': ['11', '13', '11', '18'],\n",
    "                    'high': ['23', '21', '22', '21']})\n",
    "df['date']=pd.to_datetime(df['date'])\n",
    "df.set_index('date',inplace=True)\n",
    "df.index.is_unique   #查看索引是否有重复，有重复返回False\n",
    "df.groupby(level=0).count()"
   ]
  },
  {
   "cell_type": "code",
   "execution_count": 68,
   "metadata": {
    "collapsed": false
   },
   "outputs": [
    {
     "name": "stderr",
     "output_type": "stream",
     "text": [
      "C:\\Program Files\\Anaconda3\\lib\\site-packages\\ipykernel\\__main__.py:1: FutureWarning: how in .resample() is deprecated\n",
      "the new syntax is .resample(...).mean()\n",
      "  if __name__ == '__main__':\n"
     ]
    },
    {
     "data": {
      "text/html": [
       "<div>\n",
       "<table border=\"1\" class=\"dataframe\">\n",
       "  <thead>\n",
       "    <tr style=\"text-align: right;\">\n",
       "      <th></th>\n",
       "      <th>Bei</th>\n",
       "      <th>Shang</th>\n",
       "      <th>Guang</th>\n",
       "    </tr>\n",
       "  </thead>\n",
       "  <tbody>\n",
       "    <tr>\n",
       "      <th>2018-01-01</th>\n",
       "      <td>-0.576616</td>\n",
       "      <td>0.056132</td>\n",
       "      <td>-0.144147</td>\n",
       "    </tr>\n",
       "    <tr>\n",
       "      <th>2018-01-06</th>\n",
       "      <td>0.751759</td>\n",
       "      <td>-0.174072</td>\n",
       "      <td>-0.623474</td>\n",
       "    </tr>\n",
       "    <tr>\n",
       "      <th>2018-01-11</th>\n",
       "      <td>0.651576</td>\n",
       "      <td>0.054358</td>\n",
       "      <td>0.615880</td>\n",
       "    </tr>\n",
       "    <tr>\n",
       "      <th>2018-01-16</th>\n",
       "      <td>-0.179652</td>\n",
       "      <td>-0.088784</td>\n",
       "      <td>-0.456339</td>\n",
       "    </tr>\n",
       "    <tr>\n",
       "      <th>2018-01-21</th>\n",
       "      <td>-0.219070</td>\n",
       "      <td>0.118011</td>\n",
       "      <td>0.701009</td>\n",
       "    </tr>\n",
       "  </tbody>\n",
       "</table>\n",
       "</div>"
      ],
      "text/plain": [
       "                 Bei     Shang     Guang\n",
       "2018-01-01 -0.576616  0.056132 -0.144147\n",
       "2018-01-06  0.751759 -0.174072 -0.623474\n",
       "2018-01-11  0.651576  0.054358  0.615880\n",
       "2018-01-16 -0.179652 -0.088784 -0.456339\n",
       "2018-01-21 -0.219070  0.118011  0.701009"
      ]
     },
     "execution_count": 68,
     "metadata": {},
     "output_type": "execute_result"
    }
   ],
   "source": [
    "df5day=dfday.resample('5D',how='mean')  #降采样\n",
    "df5day.head()   #重采样数据取前5条输出"
   ]
  },
  {
   "cell_type": "code",
   "execution_count": 69,
   "metadata": {
    "collapsed": false
   },
   "outputs": [
    {
     "name": "stderr",
     "output_type": "stream",
     "text": [
      "C:\\Program Files\\Anaconda3\\lib\\site-packages\\ipykernel\\__main__.py:1: FutureWarning: fill_method is deprecated to .resample()\n",
      "the new syntax is .resample(...).ffill()\n",
      "  if __name__ == '__main__':\n"
     ]
    },
    {
     "data": {
      "text/html": [
       "<div>\n",
       "<table border=\"1\" class=\"dataframe\">\n",
       "  <thead>\n",
       "    <tr style=\"text-align: right;\">\n",
       "      <th></th>\n",
       "      <th>Bei</th>\n",
       "      <th>Shang</th>\n",
       "      <th>Guang</th>\n",
       "    </tr>\n",
       "  </thead>\n",
       "  <tbody>\n",
       "    <tr>\n",
       "      <th>2018-01-01</th>\n",
       "      <td>-0.576616</td>\n",
       "      <td>0.056132</td>\n",
       "      <td>-0.144147</td>\n",
       "    </tr>\n",
       "    <tr>\n",
       "      <th>2018-01-02</th>\n",
       "      <td>-0.576616</td>\n",
       "      <td>0.056132</td>\n",
       "      <td>-0.144147</td>\n",
       "    </tr>\n",
       "    <tr>\n",
       "      <th>2018-01-03</th>\n",
       "      <td>-0.576616</td>\n",
       "      <td>0.056132</td>\n",
       "      <td>-0.144147</td>\n",
       "    </tr>\n",
       "    <tr>\n",
       "      <th>2018-01-04</th>\n",
       "      <td>-0.576616</td>\n",
       "      <td>0.056132</td>\n",
       "      <td>-0.144147</td>\n",
       "    </tr>\n",
       "    <tr>\n",
       "      <th>2018-01-05</th>\n",
       "      <td>-0.576616</td>\n",
       "      <td>0.056132</td>\n",
       "      <td>-0.144147</td>\n",
       "    </tr>\n",
       "  </tbody>\n",
       "</table>\n",
       "</div>"
      ],
      "text/plain": [
       "                 Bei     Shang     Guang\n",
       "2018-01-01 -0.576616  0.056132 -0.144147\n",
       "2018-01-02 -0.576616  0.056132 -0.144147\n",
       "2018-01-03 -0.576616  0.056132 -0.144147\n",
       "2018-01-04 -0.576616  0.056132 -0.144147\n",
       "2018-01-05 -0.576616  0.056132 -0.144147"
      ]
     },
     "execution_count": 69,
     "metadata": {},
     "output_type": "execute_result"
    }
   ],
   "source": [
    "dfrday=df5day.resample('D',fill_method = 'ffill') #升采样\n",
    "dfrday.head()"
   ]
  },
  {
   "cell_type": "code",
   "execution_count": 70,
   "metadata": {
    "collapsed": false
   },
   "outputs": [
    {
     "name": "stderr",
     "output_type": "stream",
     "text": [
      "C:\\Program Files\\Anaconda3\\lib\\site-packages\\ipykernel\\__main__.py:1: FutureWarning: pd.rolling_mean is deprecated for DataFrame and will be removed in a future version, replace with \n",
      "\tDataFrame.rolling(window=3,center=False).mean()\n",
      "  if __name__ == '__main__':\n"
     ]
    },
    {
     "data": {
      "text/html": [
       "<div>\n",
       "<table border=\"1\" class=\"dataframe\">\n",
       "  <thead>\n",
       "    <tr style=\"text-align: right;\">\n",
       "      <th></th>\n",
       "      <th>Bei</th>\n",
       "      <th>Shang</th>\n",
       "      <th>Guang</th>\n",
       "    </tr>\n",
       "  </thead>\n",
       "  <tbody>\n",
       "    <tr>\n",
       "      <th>2018-01-01</th>\n",
       "      <td>NaN</td>\n",
       "      <td>NaN</td>\n",
       "      <td>NaN</td>\n",
       "    </tr>\n",
       "    <tr>\n",
       "      <th>2018-01-02</th>\n",
       "      <td>NaN</td>\n",
       "      <td>NaN</td>\n",
       "      <td>NaN</td>\n",
       "    </tr>\n",
       "    <tr>\n",
       "      <th>2018-01-03</th>\n",
       "      <td>-0.031651</td>\n",
       "      <td>-0.386364</td>\n",
       "      <td>-0.599542</td>\n",
       "    </tr>\n",
       "    <tr>\n",
       "      <th>2018-01-04</th>\n",
       "      <td>-0.179535</td>\n",
       "      <td>0.401930</td>\n",
       "      <td>-0.874777</td>\n",
       "    </tr>\n",
       "    <tr>\n",
       "      <th>2018-01-05</th>\n",
       "      <td>-0.608604</td>\n",
       "      <td>0.447366</td>\n",
       "      <td>-0.222768</td>\n",
       "    </tr>\n",
       "  </tbody>\n",
       "</table>\n",
       "</div>"
      ],
      "text/plain": [
       "                 Bei     Shang     Guang\n",
       "2018-01-01       NaN       NaN       NaN\n",
       "2018-01-02       NaN       NaN       NaN\n",
       "2018-01-03 -0.031651 -0.386364 -0.599542\n",
       "2018-01-04 -0.179535  0.401930 -0.874777\n",
       "2018-01-05 -0.608604  0.447366 -0.222768"
      ]
     },
     "execution_count": 70,
     "metadata": {},
     "output_type": "execute_result"
    }
   ],
   "source": [
    "pd.rolling_mean(dfday,window=3).head()"
   ]
  },
  {
   "cell_type": "code",
   "execution_count": 71,
   "metadata": {
    "collapsed": false
   },
   "outputs": [
    {
     "name": "stderr",
     "output_type": "stream",
     "text": [
      "C:\\Program Files\\Anaconda3\\lib\\site-packages\\ipykernel\\__main__.py:1: FutureWarning: pd.rolling_mean is deprecated for DataFrame and will be removed in a future version, replace with \n",
      "\tDataFrame.rolling(window=3,center=True).mean()\n",
      "  if __name__ == '__main__':\n"
     ]
    },
    {
     "data": {
      "text/html": [
       "<div>\n",
       "<table border=\"1\" class=\"dataframe\">\n",
       "  <thead>\n",
       "    <tr style=\"text-align: right;\">\n",
       "      <th></th>\n",
       "      <th>Bei</th>\n",
       "      <th>Shang</th>\n",
       "      <th>Guang</th>\n",
       "    </tr>\n",
       "  </thead>\n",
       "  <tbody>\n",
       "    <tr>\n",
       "      <th>2018-01-01</th>\n",
       "      <td>NaN</td>\n",
       "      <td>NaN</td>\n",
       "      <td>NaN</td>\n",
       "    </tr>\n",
       "    <tr>\n",
       "      <th>2018-01-02</th>\n",
       "      <td>-0.031651</td>\n",
       "      <td>-0.386364</td>\n",
       "      <td>-0.599542</td>\n",
       "    </tr>\n",
       "    <tr>\n",
       "      <th>2018-01-03</th>\n",
       "      <td>-0.179535</td>\n",
       "      <td>0.401930</td>\n",
       "      <td>-0.874777</td>\n",
       "    </tr>\n",
       "    <tr>\n",
       "      <th>2018-01-04</th>\n",
       "      <td>-0.608604</td>\n",
       "      <td>0.447366</td>\n",
       "      <td>-0.222768</td>\n",
       "    </tr>\n",
       "    <tr>\n",
       "      <th>2018-01-05</th>\n",
       "      <td>-1.010082</td>\n",
       "      <td>-0.123762</td>\n",
       "      <td>-0.449838</td>\n",
       "    </tr>\n",
       "  </tbody>\n",
       "</table>\n",
       "</div>"
      ],
      "text/plain": [
       "                 Bei     Shang     Guang\n",
       "2018-01-01       NaN       NaN       NaN\n",
       "2018-01-02 -0.031651 -0.386364 -0.599542\n",
       "2018-01-03 -0.179535  0.401930 -0.874777\n",
       "2018-01-04 -0.608604  0.447366 -0.222768\n",
       "2018-01-05 -1.010082 -0.123762 -0.449838"
      ]
     },
     "execution_count": 71,
     "metadata": {},
     "output_type": "execute_result"
    }
   ],
   "source": [
    "pd.rolling_mean(dfday,window=3,center=True).head()"
   ]
  },
  {
   "cell_type": "markdown",
   "metadata": {},
   "source": [
    "#### 4.时间序列绘图"
   ]
  },
  {
   "cell_type": "code",
   "execution_count": 51,
   "metadata": {
    "collapsed": false
   },
   "outputs": [
    {
     "data": {
      "text/plain": [
       "<matplotlib.axes._subplots.AxesSubplot at 0x15011273dd8>"
      ]
     },
     "execution_count": 51,
     "metadata": {},
     "output_type": "execute_result"
    },
    {
     "data": {
      "image/png": "[encoded data removed]",
      "text/plain": [
       "<matplotlib.figure.Figure at 0x150113e4208>"
      ]
     },
     "metadata": {},
     "output_type": "display_data"
    }
   ],
   "source": [
    "%matplotlib inline\n",
    "dfday['Bei'].plot()"
   ]
  },
  {
   "cell_type": "markdown",
   "metadata": {},
   "source": [
    "### 8.4 向量转换"
   ]
  },
  {
   "cell_type": "code",
   "execution_count": 73,
   "metadata": {
    "collapsed": false
   },
   "outputs": [
    {
     "data": {
      "text/plain": [
       "No        6\n",
       "age       6\n",
       "gender    6\n",
       "gpa       6\n",
       "major     6\n",
       "gpa_r     6\n",
       "dtype: int64"
      ]
     },
     "execution_count": 73,
     "metadata": {},
     "output_type": "execute_result"
    }
   ],
   "source": [
    "#apply函数统计每列非0值的个数\n",
    "import numpy as np\n",
    "s_df.apply(np.count_nonzero)  #对s_df的所有列进行向量转换"
   ]
  },
  {
   "cell_type": "code",
   "execution_count": 74,
   "metadata": {
    "collapsed": false
   },
   "outputs": [
    {
     "data": {
      "text/plain": [
       "0    2.8\n",
       "1    2.5\n",
       "2    3.3\n",
       "3    3.2\n",
       "4    2.5\n",
       "5    2.8\n",
       "Name: gpa, dtype: float64"
      ]
     },
     "execution_count": 74,
     "metadata": {},
     "output_type": "execute_result"
    }
   ],
   "source": [
    "def ad_gpa(s):\n",
    "    if s>=3:\n",
    "        return s+0.1\n",
    "    else:\n",
    "        return s+0.3\n",
    "s_df['gpa'].apply(ad_gpa)  #对s_df的gpa列进行向量转换\n"
   ]
  },
  {
   "cell_type": "code",
   "execution_count": 75,
   "metadata": {
    "collapsed": false
   },
   "outputs": [
    {
     "data": {
      "text/plain": [
       "0    2.8\n",
       "1    2.5\n",
       "2    3.3\n",
       "3    3.2\n",
       "4    2.5\n",
       "5    2.8\n",
       "Name: gpa, dtype: float64"
      ]
     },
     "execution_count": 75,
     "metadata": {},
     "output_type": "execute_result"
    }
   ],
   "source": [
    "s_df['gpa'].apply(lambda s:s+0.1 if s>=3 else s+0.3)  #使用匿名函数"
   ]
  },
  {
   "cell_type": "code",
   "execution_count": 76,
   "metadata": {
    "collapsed": false
   },
   "outputs": [
    {
     "data": {
      "text/html": [
       "<div>\n",
       "<table border=\"1\" class=\"dataframe\">\n",
       "  <thead>\n",
       "    <tr style=\"text-align: right;\">\n",
       "      <th></th>\n",
       "      <th>No</th>\n",
       "      <th>age</th>\n",
       "      <th>gender</th>\n",
       "      <th>gpa</th>\n",
       "      <th>major</th>\n",
       "      <th>gpa_r</th>\n",
       "    </tr>\n",
       "  </thead>\n",
       "  <tbody>\n",
       "    <tr>\n",
       "      <th>0</th>\n",
       "      <td>BS001</td>\n",
       "      <td>18</td>\n",
       "      <td>F</td>\n",
       "      <td>2.5</td>\n",
       "      <td>EC</td>\n",
       "      <td>0.914634</td>\n",
       "    </tr>\n",
       "    <tr>\n",
       "      <th>1</th>\n",
       "      <td>BS002</td>\n",
       "      <td>21</td>\n",
       "      <td>M</td>\n",
       "      <td>2.2</td>\n",
       "      <td>TR</td>\n",
       "      <td>0.880000</td>\n",
       "    </tr>\n",
       "    <tr>\n",
       "      <th>2</th>\n",
       "      <td>BS005</td>\n",
       "      <td>23</td>\n",
       "      <td>M</td>\n",
       "      <td>3.2</td>\n",
       "      <td>EC</td>\n",
       "      <td>1.170732</td>\n",
       "    </tr>\n",
       "    <tr>\n",
       "      <th>3</th>\n",
       "      <td>BS007</td>\n",
       "      <td>19</td>\n",
       "      <td>M</td>\n",
       "      <td>3.1</td>\n",
       "      <td>TR</td>\n",
       "      <td>1.240000</td>\n",
       "    </tr>\n",
       "    <tr>\n",
       "      <th>4</th>\n",
       "      <td>BS009</td>\n",
       "      <td>28</td>\n",
       "      <td>F</td>\n",
       "      <td>2.2</td>\n",
       "      <td>TR</td>\n",
       "      <td>0.880000</td>\n",
       "    </tr>\n",
       "    <tr>\n",
       "      <th>5</th>\n",
       "      <td>BS012</td>\n",
       "      <td>22</td>\n",
       "      <td>F</td>\n",
       "      <td>2.5</td>\n",
       "      <td>EC</td>\n",
       "      <td>0.914634</td>\n",
       "    </tr>\n",
       "  </tbody>\n",
       "</table>\n",
       "</div>"
      ],
      "text/plain": [
       "      No  age gender  gpa major     gpa_r\n",
       "0  BS001   18      F  2.5    EC  0.914634\n",
       "1  BS002   21      M  2.2    TR  0.880000\n",
       "2  BS005   23      M  3.2    EC  1.170732\n",
       "3  BS007   19      M  3.1    TR  1.240000\n",
       "4  BS009   28      F  2.2    TR  0.880000\n",
       "5  BS012   22      F  2.5    EC  0.914634"
      ]
     },
     "execution_count": 76,
     "metadata": {},
     "output_type": "execute_result"
    }
   ],
   "source": [
    "s_df.applymap(lambda s: np.nan if s=='' else s)"
   ]
  }
 ],
 "metadata": {
  "anaconda-cloud": {},
  "kernelspec": {
   "display_name": "Python [default]",
   "language": "python",
   "name": "python3"
  },
  "language_info": {
   "codemirror_mode": {
    "name": "ipython",
    "version": 3
   },
   "file_extension": ".py",
   "mimetype": "text/x-python",
   "name": "python",
   "nbconvert_exporter": "python",
   "pygments_lexer": "ipython3",
   "version": "3.5.2"
  }
 },
 "nbformat": 4,
 "nbformat_minor": 1
}
