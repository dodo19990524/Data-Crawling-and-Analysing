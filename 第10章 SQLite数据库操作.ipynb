{
 "cells": [
  {
   "cell_type": "markdown",
   "metadata": {},
   "source": [
    "### 10.1 SQLite数据库简介"
   ]
  },
  {
   "cell_type": "markdown",
   "metadata": {},
   "source": [
    "### 10.2 Python读写SQLite"
   ]
  },
  {
   "cell_type": "code",
   "execution_count": 8,
   "metadata": {
    "collapsed": false
   },
   "outputs": [],
   "source": [
    "#连接SQLite数据库，在数据库中建立一张表Employee，并向表中插入4条数据\n",
    "import sqlite3 as lite\n",
    "conn= lite.connect(\"d:/test.sqlite\")\n",
    "cur=conn.cursor()\n",
    "cur.execute(\"DROP TABLE IF EXISTS Employee\")\n",
    "cur.execute(\"CREATE TABLE Employee(ID CHAR(5) PRIMARY KEY NOT NULL,NAME TEXT,AGE INT,GENDER BIT,SALARY REAL)\")\n",
    "cur.execute(\"INSERT INTO Employee VALUES ('00123','ALEX',28,1,16000)\")\n",
    "cur.execute(\"INSERT INTO Employee VALUES ('00124','ED',33,1,8000)\")\n",
    "cur.execute(\"INSERT INTO Employee VALUES ('00011','JENNY',45,0,16000)\")\n",
    "cur.execute(\"INSERT INTO Employee VALUES ('00019','ANNA',35,0,11000)\")\n",
    "conn.commit()\n",
    "cur.close()\n",
    "conn.close()"
   ]
  },
  {
   "cell_type": "code",
   "execution_count": 9,
   "metadata": {
    "collapsed": false
   },
   "outputs": [
    {
     "data": {
      "text/plain": [
       "('00123', 'ALEX', 28, 1, 16000.0)"
      ]
     },
     "execution_count": 9,
     "metadata": {},
     "output_type": "execute_result"
    }
   ],
   "source": [
    "#读取Employee中所有记录，并返回数据集中的第一行数据\n",
    "conn = lite.connect(\"d:/test.sqlite\")\n",
    "cur=conn.cursor()\n",
    "cur.execute(\"SELECT * FROM Employee\")\n",
    "data=cur.fetchone()\n",
    "data"
   ]
  },
  {
   "cell_type": "code",
   "execution_count": 10,
   "metadata": {
    "collapsed": false
   },
   "outputs": [
    {
     "data": {
      "text/plain": [
       "[('00124', 'ED', 33, 1, 8000.0),\n",
       " ('00011', 'JENNY', 45, 0, 16000.0),\n",
       " ('00019', 'ANNA', 35, 0, 11000.0)]"
      ]
     },
     "execution_count": 10,
     "metadata": {},
     "output_type": "execute_result"
    }
   ],
   "source": [
    "data=cur.fetchall()\n",
    "conn.close()\n",
    "data"
   ]
  },
  {
   "cell_type": "markdown",
   "metadata": {},
   "source": [
    "### 10.3 Pandas读写SQLite"
   ]
  },
  {
   "cell_type": "code",
   "execution_count": 11,
   "metadata": {
    "collapsed": false
   },
   "outputs": [],
   "source": [
    "#dataframe数据写入test数据库的 pd_Employee表中\n",
    "import pandas as pd\n",
    "employee=[{'ID':'00123','NAME':'ALEX','AGE':28,'GENDER':1,'SALARY':16000},{'ID':'00124','NAME':'ED','AGE':33,'GENDER':1,'SALARY':8000},\n",
    "          {'ID':'00011','NAME':'JENNY','AGE':45,'GENDER':0,'SALARY':16000},{'ID':'00019','NAME':'ANNA','AGE':35,'GENDER':0,'SALARY':11000}]\n",
    "df=pd.DataFrame(employee)\n",
    "conn = lite.connect(\"d:/test.sqlite\")\n",
    "df.to_sql(name='pd_Employee',con=conn,if_exists='replace',index=False)\n",
    "conn.close()"
   ]
  },
  {
   "cell_type": "code",
   "execution_count": 12,
   "metadata": {
    "collapsed": false
   },
   "outputs": [
    {
     "data": {
      "text/html": [
       "<div>\n",
       "<table border=\"1\" class=\"dataframe\">\n",
       "  <thead>\n",
       "    <tr style=\"text-align: right;\">\n",
       "      <th></th>\n",
       "      <th>GENDER</th>\n",
       "      <th>AVG_SALARY</th>\n",
       "    </tr>\n",
       "  </thead>\n",
       "  <tbody>\n",
       "    <tr>\n",
       "      <th>0</th>\n",
       "      <td>0</td>\n",
       "      <td>13500.0</td>\n",
       "    </tr>\n",
       "    <tr>\n",
       "      <th>1</th>\n",
       "      <td>1</td>\n",
       "      <td>12000.0</td>\n",
       "    </tr>\n",
       "  </tbody>\n",
       "</table>\n",
       "</div>"
      ],
      "text/plain": [
       "   GENDER  AVG_SALARY\n",
       "0       0     13500.0\n",
       "1       1     12000.0"
      ]
     },
     "execution_count": 12,
     "metadata": {},
     "output_type": "execute_result"
    }
   ],
   "source": [
    "#sql查询\n",
    "conn = lite.connect(\"d:/test.sqlite\")\n",
    "df=pd.read_sql(\"SELECT * FROM pd_Employee ORDER BY SALARY DESC\",con=conn)\n",
    "df1=pd.read_sql(\"SELECT * FROM pd_Employee ORDER BY SALARY\",con=conn)\n",
    "df2=pd.read_sql(\"SELECT * FROM pd_Employee WHERE GENDER=1\",con=conn)\n",
    "df3=pd.read_sql(\"SELECT GENDER,AVG(SALARY) AS AVG_SALARY FROM pd_Employee GROUP BY GENDER\",con=conn)\n",
    "df3"
   ]
  }
 ],
 "metadata": {
  "anaconda-cloud": {},
  "kernelspec": {
   "display_name": "Python [default]",
   "language": "python",
   "name": "python3"
  },
  "language_info": {
   "codemirror_mode": {
    "name": "ipython",
    "version": 3
   },
   "file_extension": ".py",
   "mimetype": "text/x-python",
   "name": "python",
   "nbconvert_exporter": "python",
   "pygments_lexer": "ipython3",
   "version": "3.5.2"
  }
 },
 "nbformat": 4,
 "nbformat_minor": 1
}
