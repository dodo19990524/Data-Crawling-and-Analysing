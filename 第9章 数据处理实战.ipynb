{
 "cells": [
  {
   "cell_type": "markdown",
   "metadata": {},
   "source": [
    "### 9.1二手房数据处理"
   ]
  },
  {
   "cell_type": "markdown",
   "metadata": {},
   "source": [
    "#### 1.数据导入与观测"
   ]
  },
  {
   "cell_type": "code",
   "execution_count": 2,
   "metadata": {
    "collapsed": false
   },
   "outputs": [
    {
     "name": "stdout",
     "output_type": "stream",
     "text": [
      "<class 'pandas.core.frame.DataFrame'>\n",
      "Int64Index: 2939 entries, 107002321157 to 107000059163\n",
      "Data columns (total 16 columns):\n",
      "总价      2939 non-null float64\n",
      "小区      2939 non-null object\n",
      "区域      2939 non-null object\n",
      "房屋户型    2939 non-null object\n",
      "所在楼层    2939 non-null object\n",
      "建筑面积    2939 non-null object\n",
      "户型结构    2939 non-null object\n",
      "建筑类型    2939 non-null object\n",
      "房屋朝向    2939 non-null object\n",
      "建筑结构    2939 non-null object\n",
      "装修情况    2939 non-null object\n",
      "梯户比例    2939 non-null object\n",
      "交易权属    2939 non-null object\n",
      "产权所属    2939 non-null object\n",
      "挂牌时间    2939 non-null object\n",
      "上次交易    2939 non-null object\n",
      "dtypes: float64(1), object(15)\n",
      "memory usage: 390.3+ KB\n"
     ]
    }
   ],
   "source": [
    "import pandas as pd\n",
    "import numpy as np\n",
    "df=pd.read_excel('pandas_二手房.xlsx',index_col=0) #导入数据，索引为第0列\n",
    "df.info()  #查看dataframe字段格式"
   ]
  },
  {
   "cell_type": "code",
   "execution_count": 13,
   "metadata": {
    "collapsed": false
   },
   "outputs": [],
   "source": [
    "df.head()  #查看前5行数据\n",
    "df.head(10) #查看前10行数据\n",
    "df.tail()  #查看后5行数据\n",
    "df.describe() #查看描述性统计结果"
   ]
  },
  {
   "cell_type": "markdown",
   "metadata": {},
   "source": [
    "#### 2.缺失值处理"
   ]
  },
  {
   "cell_type": "code",
   "execution_count": 4,
   "metadata": {
    "collapsed": false,
    "scrolled": true
   },
   "outputs": [],
   "source": [
    "#方法一 利用applymap方法遍历处理缺失值\n",
    "def replace_with_nan(s):\n",
    "    if s=='':\n",
    "        return np.nan\n",
    "    else:\n",
    "        return s\n",
    "df=df.applymap(replace_with_nan)"
   ]
  },
  {
   "cell_type": "code",
   "execution_count": 6,
   "metadata": {
    "collapsed": false
   },
   "outputs": [
    {
     "data": {
      "text/plain": [
       "总价         0\n",
       "小区         0\n",
       "区域         0\n",
       "房屋户型       0\n",
       "所在楼层       0\n",
       "建筑面积       0\n",
       "户型结构    2939\n",
       "建筑类型      21\n",
       "房屋朝向     154\n",
       "建筑结构       0\n",
       "装修情况       0\n",
       "梯户比例       0\n",
       "交易权属       0\n",
       "产权所属    2723\n",
       "挂牌时间       0\n",
       "上次交易      65\n",
       "dtype: int64"
      ]
     },
     "execution_count": 6,
     "metadata": {},
     "output_type": "execute_result"
    }
   ],
   "source": [
    "#方法二 在dataframe读入时指定需要替换为Nan的值\n",
    "df=pd.read_excel('pandas_二手房.xlsx',index_col=0,na_values='暂无数据')\n",
    "df.isnull().sum()"
   ]
  },
  {
   "cell_type": "markdown",
   "metadata": {},
   "source": [
    "#### 3.数据转换"
   ]
  },
  {
   "cell_type": "code",
   "execution_count": 8,
   "metadata": {
    "collapsed": true
   },
   "outputs": [],
   "source": [
    "#将字符串日期转换为datetime格式的日期\n",
    "df['挂牌时间']=pd.to_datetime(df['挂牌时间'])\n",
    "df['上次交易']=pd.to_datetime(df['上次交易'])"
   ]
  },
  {
   "cell_type": "code",
   "execution_count": 9,
   "metadata": {
    "collapsed": false
   },
   "outputs": [],
   "source": [
    "#通过字符串对象的split函数，对字符串进行分割，并建立新的字段\n",
    "df['建筑面积']=df['建筑面积'].map(lambda s :s.split('㎡')[0])\n",
    "df['区']=df['区域'].map(lambda s :s.split(' ')[0])  #取区\n",
    "df['板块']=df['区域'].map(lambda s :s.split(' ')[1])  #取板块\n",
    "df['环线']=df['区域'].map(lambda s :s.split(' ')[2])  #取环线\n",
    "df['室']=df['房屋户型'].map(lambda s :int(s.split('室')[0]))   #取几室\n",
    "df['厅']=df['房屋户型'].map(lambda s :int(s.split('厅')[0].split('室')[1])) #取几厅\n",
    "df['厨']=df['房屋户型'].map(lambda s :int(s.split('厨')[0].split('厅')[1])) #取几厨\n",
    "df['卫']=df['房屋户型'].map(lambda s :int(s.split('厨')[1].split('卫')[0])) #取几卫\n",
    "df['楼层位置']=df['所在楼层'].map(lambda s :s.split('楼')[0])   #取楼层\n",
    "df['楼层总数']=df['所在楼层'].map(lambda s :int(s.split('共')[1].split('层')[0]))   #取楼层数\n",
    "df['电梯数']=df['梯户比例'].map(lambda s :s.split('梯')[0])  #取几梯\n",
    "df['楼层户数']=df['梯户比例'].map(lambda s :s.split('梯')[1].split('户')[0]) #取几户\n",
    "del df['区域']\n",
    "del df['房屋户型']\n",
    "del df['所在楼层']\n",
    "del df['梯户比例']"
   ]
  },
  {
   "cell_type": "code",
   "execution_count": 10,
   "metadata": {
    "collapsed": false
   },
   "outputs": [
    {
     "data": {
      "text/plain": [
       "array(['一', '两', '三', '四', '六', '五'], dtype=object)"
      ]
     },
     "execution_count": 10,
     "metadata": {},
     "output_type": "execute_result"
    }
   ],
   "source": [
    "df['电梯数'].unique()"
   ]
  },
  {
   "cell_type": "code",
   "execution_count": 4,
   "metadata": {
    "collapsed": false
   },
   "outputs": [],
   "source": [
    "#将中文数字转换为阿拉伯数字\n",
    "def cta(s):\n",
    "    con_table ={'零':0, '一':1, '二':2, '两':2, '三':3, '四':4, '五':5, '六':6, '七':7, '八':8, '九':9, '十':10}\n",
    "    n=len(s)\n",
    "    if n==3:\n",
    "        return con_table[s[0]]*10+con_table[s[2]]\n",
    "    if n==2:\n",
    "        return con_table[s[0]]+con_table[s[1]]\n",
    "    if n==1:\n",
    "        return con_table[s[0]]\n",
    "df['电梯数']=df['电梯数'].map(cta)\n",
    "df['楼层户数']=df['楼层户数'].map(cta)"
   ]
  },
  {
   "cell_type": "markdown",
   "metadata": {
    "collapsed": false
   },
   "source": [
    "#### 4.数据重塑"
   ]
  },
  {
   "cell_type": "code",
   "execution_count": 12,
   "metadata": {
    "collapsed": false
   },
   "outputs": [
    {
     "data": {
      "text/plain": [
       "array(['商品房', '动迁安置房', '售后公房'], dtype=object)"
      ]
     },
     "execution_count": 12,
     "metadata": {},
     "output_type": "execute_result"
    }
   ],
   "source": [
    "df['交易权属'].unique()"
   ]
  },
  {
   "cell_type": "code",
   "execution_count": 14,
   "metadata": {
    "collapsed": false
   },
   "outputs": [
    {
     "data": {
      "text/html": [
       "<div>\n",
       "<table border=\"1\" class=\"dataframe\">\n",
       "  <thead>\n",
       "    <tr style=\"text-align: right;\">\n",
       "      <th></th>\n",
       "      <th>动迁安置房</th>\n",
       "      <th>售后公房</th>\n",
       "      <th>商品房</th>\n",
       "    </tr>\n",
       "    <tr>\n",
       "      <th>房屋编号</th>\n",
       "      <th></th>\n",
       "      <th></th>\n",
       "      <th></th>\n",
       "    </tr>\n",
       "  </thead>\n",
       "  <tbody>\n",
       "    <tr>\n",
       "      <th>107002321157</th>\n",
       "      <td>0.0</td>\n",
       "      <td>0.0</td>\n",
       "      <td>1.0</td>\n",
       "    </tr>\n",
       "    <tr>\n",
       "      <th>107000752483</th>\n",
       "      <td>0.0</td>\n",
       "      <td>0.0</td>\n",
       "      <td>1.0</td>\n",
       "    </tr>\n",
       "    <tr>\n",
       "      <th>107000488257</th>\n",
       "      <td>0.0</td>\n",
       "      <td>0.0</td>\n",
       "      <td>1.0</td>\n",
       "    </tr>\n",
       "    <tr>\n",
       "      <th>107000285319</th>\n",
       "      <td>0.0</td>\n",
       "      <td>0.0</td>\n",
       "      <td>1.0</td>\n",
       "    </tr>\n",
       "    <tr>\n",
       "      <th>107001668181</th>\n",
       "      <td>1.0</td>\n",
       "      <td>0.0</td>\n",
       "      <td>0.0</td>\n",
       "    </tr>\n",
       "  </tbody>\n",
       "</table>\n",
       "</div>"
      ],
      "text/plain": [
       "              动迁安置房  售后公房  商品房\n",
       "房屋编号                          \n",
       "107002321157    0.0   0.0  1.0\n",
       "107000752483    0.0   0.0  1.0\n",
       "107000488257    0.0   0.0  1.0\n",
       "107000285319    0.0   0.0  1.0\n",
       "107001668181    1.0   0.0  0.0"
      ]
     },
     "execution_count": 14,
     "metadata": {},
     "output_type": "execute_result"
    }
   ],
   "source": [
    "#将‘交易权属’字段转换为虚拟变量\n",
    "pd.get_dummies(df['交易权属']).head()"
   ]
  },
  {
   "cell_type": "code",
   "execution_count": 15,
   "metadata": {
    "collapsed": false
   },
   "outputs": [],
   "source": [
    "#将包含虚拟变量的dataframe与原dataframe在行索上对齐连接\n",
    "df=df.join(pd.get_dummies(df['交易权属']))\n",
    "del df['交易权属']"
   ]
  },
  {
   "cell_type": "code",
   "execution_count": 16,
   "metadata": {
    "collapsed": false
   },
   "outputs": [
    {
     "data": {
      "text/html": [
       "<div>\n",
       "<table border=\"1\" class=\"dataframe\">\n",
       "  <thead>\n",
       "    <tr>\n",
       "      <th></th>\n",
       "      <th colspan=\"5\" halign=\"left\">总价</th>\n",
       "    </tr>\n",
       "    <tr>\n",
       "      <th>环线</th>\n",
       "      <th></th>\n",
       "      <th>中环至外环</th>\n",
       "      <th>内环内</th>\n",
       "      <th>内环至中环</th>\n",
       "      <th>外环外</th>\n",
       "    </tr>\n",
       "    <tr>\n",
       "      <th>区</th>\n",
       "      <th></th>\n",
       "      <th></th>\n",
       "      <th></th>\n",
       "      <th></th>\n",
       "      <th></th>\n",
       "    </tr>\n",
       "  </thead>\n",
       "  <tbody>\n",
       "    <tr>\n",
       "      <th>嘉定</th>\n",
       "      <td>NaN</td>\n",
       "      <td>421.423077</td>\n",
       "      <td>NaN</td>\n",
       "      <td>NaN</td>\n",
       "      <td>335.964286</td>\n",
       "    </tr>\n",
       "    <tr>\n",
       "      <th>奉贤</th>\n",
       "      <td>285.363636</td>\n",
       "      <td>NaN</td>\n",
       "      <td>NaN</td>\n",
       "      <td>NaN</td>\n",
       "      <td>239.017391</td>\n",
       "    </tr>\n",
       "    <tr>\n",
       "      <th>宝山</th>\n",
       "      <td>570.209302</td>\n",
       "      <td>413.711934</td>\n",
       "      <td>NaN</td>\n",
       "      <td>458.682927</td>\n",
       "      <td>369.762500</td>\n",
       "    </tr>\n",
       "    <tr>\n",
       "      <th>徐汇</th>\n",
       "      <td>NaN</td>\n",
       "      <td>479.843750</td>\n",
       "      <td>992.338462</td>\n",
       "      <td>560.015748</td>\n",
       "      <td>512.500000</td>\n",
       "    </tr>\n",
       "    <tr>\n",
       "      <th>普陀</th>\n",
       "      <td>NaN</td>\n",
       "      <td>512.085714</td>\n",
       "      <td>872.561798</td>\n",
       "      <td>545.836538</td>\n",
       "      <td>275.545455</td>\n",
       "    </tr>\n",
       "  </tbody>\n",
       "</table>\n",
       "</div>"
      ],
      "text/plain": [
       "            总价                                                \n",
       "环线                   中环至外环         内环内       内环至中环         外环外\n",
       "区                                                             \n",
       "嘉定         NaN  421.423077         NaN         NaN  335.964286\n",
       "奉贤  285.363636         NaN         NaN         NaN  239.017391\n",
       "宝山  570.209302  413.711934         NaN  458.682927  369.762500\n",
       "徐汇         NaN  479.843750  992.338462  560.015748  512.500000\n",
       "普陀         NaN  512.085714  872.561798  545.836538  275.545455"
      ]
     },
     "execution_count": 16,
     "metadata": {},
     "output_type": "execute_result"
    }
   ],
   "source": [
    "#数据透视表\n",
    "pd.pivot_table(df,values=['总价'],index='区',columns='环线',aggfunc='mean').head()"
   ]
  },
  {
   "cell_type": "markdown",
   "metadata": {
    "collapsed": true
   },
   "source": [
    "### 9.2 职位数据处理"
   ]
  },
  {
   "cell_type": "markdown",
   "metadata": {},
   "source": [
    "#### 1.数据导入与观测"
   ]
  },
  {
   "cell_type": "code",
   "execution_count": 17,
   "metadata": {
    "collapsed": false
   },
   "outputs": [
    {
     "name": "stdout",
     "output_type": "stream",
     "text": [
      "<class 'pandas.core.frame.DataFrame'>\n",
      "Int64Index: 4980 entries, 4268845 to 3749022\n",
      "Data columns (total 12 columns):\n",
      "positionName       4980 non-null object\n",
      "city               4980 non-null object\n",
      "createTime         4980 non-null object\n",
      "companyFullName    4980 non-null object\n",
      "education          4980 non-null object\n",
      "industryField      4980 non-null object\n",
      "companySize        4980 non-null object\n",
      "firstType          4980 non-null object\n",
      "secondType         4980 non-null object\n",
      "salary             4980 non-null object\n",
      "workYear           4980 non-null object\n",
      "description        4962 non-null object\n",
      "dtypes: object(12)\n",
      "memory usage: 505.8+ KB\n"
     ]
    }
   ],
   "source": [
    "import pandas as pd\n",
    "import numpy as np\n",
    "df=pd.read_excel('pandas_职位招聘.xls',index_col=0)\n",
    "df.info()"
   ]
  },
  {
   "cell_type": "markdown",
   "metadata": {},
   "source": [
    "#### 2.缺失值处理"
   ]
  },
  {
   "cell_type": "code",
   "execution_count": 18,
   "metadata": {
    "collapsed": false
   },
   "outputs": [
    {
     "data": {
      "text/plain": [
       "positionName       0\n",
       "city               0\n",
       "createTime         0\n",
       "companyFullName    0\n",
       "education          0\n",
       "industryField      0\n",
       "companySize        0\n",
       "firstType          0\n",
       "secondType         0\n",
       "salary             0\n",
       "workYear           0\n",
       "description        0\n",
       "dtype: int64"
      ]
     },
     "execution_count": 18,
     "metadata": {},
     "output_type": "execute_result"
    }
   ],
   "source": [
    "df=df.dropna()\n",
    "df.isnull().sum()"
   ]
  },
  {
   "cell_type": "markdown",
   "metadata": {},
   "source": [
    "#### 3.数据转换"
   ]
  },
  {
   "cell_type": "code",
   "execution_count": 19,
   "metadata": {
    "collapsed": false
   },
   "outputs": [
    {
     "data": {
      "text/html": [
       "<div>\n",
       "<table border=\"1\" class=\"dataframe\">\n",
       "  <thead>\n",
       "    <tr style=\"text-align: right;\">\n",
       "      <th></th>\n",
       "      <th>positionName</th>\n",
       "      <th>city</th>\n",
       "      <th>createTime</th>\n",
       "      <th>companyFullName</th>\n",
       "      <th>education</th>\n",
       "      <th>industryField</th>\n",
       "      <th>companySize</th>\n",
       "      <th>firstType</th>\n",
       "      <th>secondType</th>\n",
       "      <th>salary</th>\n",
       "      <th>workYear</th>\n",
       "    </tr>\n",
       "    <tr>\n",
       "      <th>positionId</th>\n",
       "      <th></th>\n",
       "      <th></th>\n",
       "      <th></th>\n",
       "      <th></th>\n",
       "      <th></th>\n",
       "      <th></th>\n",
       "      <th></th>\n",
       "      <th></th>\n",
       "      <th></th>\n",
       "      <th></th>\n",
       "      <th></th>\n",
       "    </tr>\n",
       "  </thead>\n",
       "  <tbody>\n",
       "    <tr>\n",
       "      <th>4268845</th>\n",
       "      <td>22989-大数据和人工智能高级开发工程师</td>\n",
       "      <td>深圳</td>\n",
       "      <td>2018-03-15 15:27:44</td>\n",
       "      <td>腾讯科技(深圳)有限公司</td>\n",
       "      <td>本科</td>\n",
       "      <td>移动互联网 ,游戏</td>\n",
       "      <td>2000人以上</td>\n",
       "      <td>开发/测试/运维类</td>\n",
       "      <td>后端开发</td>\n",
       "      <td>25k-50k</td>\n",
       "      <td>3-5年</td>\n",
       "    </tr>\n",
       "    <tr>\n",
       "      <th>3519814</th>\n",
       "      <td>大数据--资深开发工程师</td>\n",
       "      <td>北京</td>\n",
       "      <td>2018-03-16 10:14:41</td>\n",
       "      <td>快看世界（北京）科技有限公司</td>\n",
       "      <td>本科</td>\n",
       "      <td>移动互联网,文化娱乐</td>\n",
       "      <td>150-500人</td>\n",
       "      <td>开发/测试/运维类</td>\n",
       "      <td>数据开发</td>\n",
       "      <td>30k-50k</td>\n",
       "      <td>3-5年</td>\n",
       "    </tr>\n",
       "    <tr>\n",
       "      <th>4190526</th>\n",
       "      <td>大数据/AI高级产品经理</td>\n",
       "      <td>北京</td>\n",
       "      <td>2018-03-17 20:51:57</td>\n",
       "      <td>北京车之家信息技术有限公司</td>\n",
       "      <td>本科</td>\n",
       "      <td>移动互联网,文化娱乐</td>\n",
       "      <td>2000人以上</td>\n",
       "      <td>产品/需求/项目类</td>\n",
       "      <td>产品设计/需求分析</td>\n",
       "      <td>25k-35k</td>\n",
       "      <td>3-5年</td>\n",
       "    </tr>\n",
       "    <tr>\n",
       "      <th>3996747</th>\n",
       "      <td>大数据与机器学习研发专家</td>\n",
       "      <td>上海</td>\n",
       "      <td>2018-03-17 18:11:01</td>\n",
       "      <td>北京三快在线科技有限公司</td>\n",
       "      <td>本科</td>\n",
       "      <td>移动互联网,O2O</td>\n",
       "      <td>2000人以上</td>\n",
       "      <td>开发/测试/运维类</td>\n",
       "      <td>数据开发</td>\n",
       "      <td>20k-40k</td>\n",
       "      <td>3-5年</td>\n",
       "    </tr>\n",
       "    <tr>\n",
       "      <th>4180225</th>\n",
       "      <td>数据与智能引擎总监</td>\n",
       "      <td>深圳</td>\n",
       "      <td>2018-03-16 10:36:35</td>\n",
       "      <td>深圳平安讯科技术有限公司</td>\n",
       "      <td>本科</td>\n",
       "      <td>移动互联网</td>\n",
       "      <td>150-500人</td>\n",
       "      <td>开发/测试/运维类</td>\n",
       "      <td>数据开发</td>\n",
       "      <td>30k-50k</td>\n",
       "      <td>5-10年</td>\n",
       "    </tr>\n",
       "  </tbody>\n",
       "</table>\n",
       "</div>"
      ],
      "text/plain": [
       "                     positionName city           createTime companyFullName  \\\n",
       "positionId                                                                    \n",
       "4268845     22989-大数据和人工智能高级开发工程师   深圳  2018-03-15 15:27:44    腾讯科技(深圳)有限公司   \n",
       "3519814              大数据--资深开发工程师   北京  2018-03-16 10:14:41  快看世界（北京）科技有限公司   \n",
       "4190526              大数据/AI高级产品经理   北京  2018-03-17 20:51:57   北京车之家信息技术有限公司   \n",
       "3996747              大数据与机器学习研发专家   上海  2018-03-17 18:11:01    北京三快在线科技有限公司   \n",
       "4180225                 数据与智能引擎总监   深圳  2018-03-16 10:36:35    深圳平安讯科技术有限公司   \n",
       "\n",
       "           education industryField companySize  firstType secondType   salary  \\\n",
       "positionId                                                                      \n",
       "4268845           本科     移动互联网 ,游戏     2000人以上  开发/测试/运维类       后端开发  25k-50k   \n",
       "3519814           本科    移动互联网,文化娱乐    150-500人  开发/测试/运维类       数据开发  30k-50k   \n",
       "4190526           本科    移动互联网,文化娱乐     2000人以上  产品/需求/项目类  产品设计/需求分析  25k-35k   \n",
       "3996747           本科     移动互联网,O2O     2000人以上  开发/测试/运维类       数据开发  20k-40k   \n",
       "4180225           本科         移动互联网    150-500人  开发/测试/运维类       数据开发  30k-50k   \n",
       "\n",
       "           workYear  \n",
       "positionId           \n",
       "4268845        3-5年  \n",
       "3519814        3-5年  \n",
       "4190526        3-5年  \n",
       "3996747        3-5年  \n",
       "4180225       5-10年  "
      ]
     },
     "execution_count": 19,
     "metadata": {},
     "output_type": "execute_result"
    }
   ],
   "source": [
    "#剔除'description'列后显示dataframe\n",
    "df.drop('description',axis=1).head()"
   ]
  },
  {
   "cell_type": "code",
   "execution_count": 20,
   "metadata": {
    "collapsed": true
   },
   "outputs": [],
   "source": [
    "#使用apply函数按分隔符分割列\n",
    "df['industryField']=df['industryField'].apply(lambda e: e.split(',')) # 所在行业转换成列表\n",
    "df['firstType']=df['firstType'].apply(lambda e: e.split('/'))  #职位大类转换成列表\n",
    "df['secondType']=df['secondType'].apply(lambda e: e.split('/')) #职位小类转换成列表"
   ]
  },
  {
   "cell_type": "code",
   "execution_count": 21,
   "metadata": {
    "collapsed": false
   },
   "outputs": [
    {
     "name": "stdout",
     "output_type": "stream",
     "text": [
      "6\n",
      "6\n",
      "5\n",
      "230\n"
     ]
    }
   ],
   "source": [
    "#查看各列非重复值个数\n",
    "print(len(df['workYear'].unique()))\n",
    "print(len(df['companySize'].unique()))\n",
    "print(len(df['education'].unique()))\n",
    "print(len(df['salary'].unique()))"
   ]
  },
  {
   "cell_type": "code",
   "execution_count": 22,
   "metadata": {
    "collapsed": true
   },
   "outputs": [],
   "source": [
    "#salary字段的单位有k何K两种，分割salary字段\n",
    "import re\n",
    "df['salary']=df['salary'].apply(lambda e: int(re.split('[k,K]', e)[0]))"
   ]
  },
  {
   "cell_type": "code",
   "execution_count": 23,
   "metadata": {
    "collapsed": true
   },
   "outputs": [],
   "source": [
    "#日期时间字段转换\n",
    "df['createTime']=pd.to_datetime(df['createTime'])"
   ]
  },
  {
   "cell_type": "markdown",
   "metadata": {},
   "source": [
    "### 9.3 职位描述中文自然语言处理"
   ]
  },
  {
   "cell_type": "markdown",
   "metadata": {},
   "source": [
    "#### 1. 中文分词词库jieba简介"
   ]
  },
  {
   "cell_type": "code",
   "execution_count": 25,
   "metadata": {
    "collapsed": false
   },
   "outputs": [
    {
     "name": "stderr",
     "output_type": "stream",
     "text": [
      "Building prefix dict from the default dictionary ...\n",
      "Loading model from cache C:\\Users\\lzp\\AppData\\Local\\Temp\\jieba.cache\n",
      "Loading model cost 0.765 seconds.\n",
      "Prefix dict has been built succesfully.\n"
     ]
    },
    {
     "name": "stdout",
     "output_type": "stream",
     "text": [
      "全模式: 我/ 来到/ 北京/ 清华/ 清华大学/ 华大/ 大学\n",
      "精确模式: 我/ 来到/ 北京/ 清华大学\n",
      "默认为精确模式: 他, 来到, 了, 网易, 杭研, 大厦\n",
      "搜索引擎模式: 小明, 硕士, 毕业, 于, 中国, 科学, 学院, 科学院, 中国科学院, 计算, 计算所\n"
     ]
    }
   ],
   "source": [
    "#jieba的三种分词模式\n",
    "import jieba\n",
    "seg_list = jieba.cut(\"我来到北京清华大学\", cut_all=True)\n",
    "print(\"全模式: \" + \"/ \".join(seg_list))  \n",
    "seg_list = jieba.cut(\"我来到北京清华大学\", cut_all=False)\n",
    "print(\"精确模式: \" + \"/ \".join(seg_list))  \n",
    "seg_list = jieba.cut(\"他来到了网易杭研大厦\")  \n",
    "print(\"默认为精确模式: \"+\", \".join(seg_list))\n",
    "seg_list = jieba.cut_for_search(\"小明硕士毕业于中国科学院计算所\") \n",
    "print(\"搜索引擎模式: \" + \", \".join(seg_list))"
   ]
  },
  {
   "cell_type": "code",
   "execution_count": 26,
   "metadata": {
    "collapsed": false
   },
   "outputs": [
    {
     "name": "stdout",
     "output_type": "stream",
     "text": [
      "小明 nr\n",
      "硕士 n\n",
      "毕业 n\n",
      "于 p\n",
      "中国科学院 nt\n",
      "计算所 n\n"
     ]
    }
   ],
   "source": [
    "#返回相应分词的词性\n",
    "import jieba.posseg\n",
    "seg_list = jieba.posseg.cut(\"小明硕士毕业于中国科学院计算所\")\n",
    "for word, flag in seg_list:\n",
    "    print(str(word)+ ' '+ str(flag))"
   ]
  },
  {
   "cell_type": "markdown",
   "metadata": {},
   "source": [
    "#### 2. 对每个职位description分词"
   ]
  },
  {
   "cell_type": "code",
   "execution_count": 27,
   "metadata": {
    "collapsed": true
   },
   "outputs": [],
   "source": [
    "#首先定义分词词性过滤函数filter_flag\n",
    "def filter_flag(seg):\n",
    "    include=['n','v','eng']\n",
    "    wordf=[]\n",
    "    for i in seg:\n",
    "        if i.flag in include:\n",
    "            wordf.append(i.word)\n",
    "    return wordf"
   ]
  },
  {
   "cell_type": "code",
   "execution_count": 28,
   "metadata": {
    "collapsed": false
   },
   "outputs": [
    {
     "data": {
      "text/plain": [
       "['职位 描述 岗位职责 负责 数据 AI 商业化 产品 交付 了解 客户 需求 保质 完成 计划 协助 解决方案 团队 完成 客户 化 方案 实施 协助 运维 团队 保障 交付 产品 岗位 要求 Linux C PHP Python Java 编程语言 技术开发 相关 经验 熟悉 质量 流程 有 云 计算 产品 SaaS 交付 经验 能 独立 完成 模块 开发 交付 有 并发 大容量 后台 经验 熟悉 计算 大 数据 相关 技术 数据 机器 学习 图片 识别 语音 识别 相关 背景 经验 有 应用 开发 经验 例如 Container Kubernetes DevOps CD CI 具备 沟通 表 能力 团队 精神 有 责任心 执行 能力 计算机相关 专业',\n",
       " '职位 描述 职责 深入 理解 业务 需求 业务 建模 系统 架构 满足 业务 需求 维护 大 数据 集群 架构 业务 需求 规划 集群 架构 扩展 解决 遇到 技术难题 指导 同事 开发 任职 条件 计算机相关 专业本科 编程 基础 有 数据 开发 经验 Hadoop 生态 体系 架构 有 深入 理解 熟悉 Spark Hive 开源 工具 Flume 收集 体系 用户 行为 采集 海量 数据处理 数据 建模 业务 理解 方面 有 经验 擅长 挖掘 梳理 需求 具有 逻辑性 思维 能 协调 需求 能 学习 开源 框架 知识 体系 应用 到 架构 体系 能 学习业务 领域 知识 具有 产品 思维 职业 素养 看 欢迎',\n",
       " '职位 描述 岗位职责 熟悉 汽车 大 数据 平台 AI 相关 技术 能力 产品 附能 业务 数据 部门 业务 方向 规划 产品 解决方案 团队 迭代 BU 业务部门 公司 沟通 以求 赢 任职 要求 熟悉 数据 平台 AI 产品 技术 原理 互联网 公司 数据 AI 相关 经验 擅长 沟通 意识',\n",
       " '职位 描述 岗位职责 负责 数据安全 平台 平台 数据处理 数据挖掘 岗位 要求 Java 语言 擅长 使用 开源 框架 比如 elk kafka storm spark 数据处理 框架 掌握 实现 原理 擅长 使用 机器 学习 框架 TensorFlow 掌握 原理 熟悉 机器 学习 算法 神经网络 SVM 熟悉 回归 分析模型 规则 挖掘 分类 聚类 算法 协同 过滤 算法 数据 统计 模型 挖掘 算法 有 互联网 并发 相关 经验',\n",
       " '职位 描述 岗位职责 公司 业务 需要 全面规划 数据 部门 产品 技术 架构设计 数据量 用户 行为 数据 处理 清洗 挖掘 迭代 推荐 策略 负责 用户 激励 策略 模型 迭代 跟踪 负责 征信 评分 模型 建立 结合 客户 属性 行为 数据 量化 识别 度量 产品 业务 存在 风险 建立 风险 信用 计量 模型 追踪 前沿技术 结合 业务 特点 探索 算法 技术 应用 实际 业务 负责 数据 部门 团队 提升 团队 专业性 能力 任职 要求 计算机相关 专业 院校 互联网 数据处理 经验 数据 团队 leader 经验 数据挖掘 算法 具备 实际 项目 落地 经验 有 金融 行业 风 控 建模 反 策略 经验 有 反垃圾 账号 产品 经验 有 电商 平台 精准 推荐 应用 落地 经验']"
      ]
     },
     "execution_count": 28,
     "metadata": {},
     "output_type": "execute_result"
    }
   ],
   "source": [
    "#第二步 遍历df['description']序列，对每个职位的描述文本进行分词\n",
    "import jieba.posseg\n",
    "wordlist=[]\n",
    "for rec in df['description']:\n",
    "    word=filter_flag(jieba.posseg.cut(rec))\n",
    "    wordlist.append(' '.join(word))\n",
    "wordlist[:5] #显示分词后列表wordlist的前5个元素"
   ]
  },
  {
   "cell_type": "code",
   "execution_count": 29,
   "metadata": {
    "collapsed": false
   },
   "outputs": [
    {
     "name": "stdout",
     "output_type": "stream",
     "text": [
      "列：9152 行：4962\n"
     ]
    }
   ],
   "source": [
    "#第三步，将分词列表转换为词频矩阵\n",
    "from sklearn.feature_extraction.text import CountVectorizer\n",
    "vec=CountVectorizer()\n",
    "word_array=vec.fit_transform(wordlist)\n",
    "print('列：'+str(len(word_array.toarray()[0]))+' 行：'+str(len(word_array.toarray())))"
   ]
  },
  {
   "cell_type": "code",
   "execution_count": 30,
   "metadata": {
    "collapsed": false
   },
   "outputs": [
    {
     "name": "stdout",
     "output_type": "stream",
     "text": [
      "列：129 行：3\n",
      "['ai', 'bu', 'cd', 'ci', 'container', 'devops', 'flume', 'hadoop', 'hive', 'java', 'kubernetes', 'linux', 'php', 'python', 'saas', 'spark', '专业', '专业本科', '业务', '业务部门', '了解', '互联网', '交付', '产品', '以求', '任职', '体系', '例如', '保质', '保障', '公司', '具备', '具有', '协助', '协调', '原理', '同事', '后台', '商业化', '团队', '图片', '基础', '大容量', '学习', '学习业务', '完成', '实施', '客户', '岗位', '岗位职责', '工具', '平台', '并发', '应用', '建模', '开发', '开源', '思维', '意识', '执行', '扩展', '技术', '技术开发', '技术难题', '指导', '挖掘', '描述', '擅长', '收集', '数据', '数据处理', '方向', '方案', '方面', '机器', '条件', '架构', '框架', '梳理', '模块', '欢迎', '汽车', '沟通', '流程', '海量', '深入', '满足', '熟悉', '独立', '理解', '生态', '用户', '相关', '知识', '精神', '系统', '素养', '经验', '维护', '编程', '编程语言', '职业', '职位', '职责', '背景', '能力', '行为', '要求', '规划', '解决', '解决方案', '计划', '计算', '计算机相关', '识别', '语音', '负责', '责任心', '质量', '运维', '迭代', '逻辑性', '遇到', '部门', '采集', '附能', '集群', '需求', '领域']\n",
      "[[1 0 1 1 1 1 0 0 0 1 1 1 1 1 1 0 1 0 0 0 1 0 4 3 0 0 0 1 1 1 0 1 0 2 0 0 0\n",
      "  1 1 3 1 0 1 1 0 3 1 2 1 1 0 0 1 1 0 2 0 0 0 1 0 1 1 0 0 0 1 0 0 3 0 0 1 0\n",
      "  1 0 0 0 0 1 0 0 1 1 0 0 0 2 1 0 0 0 3 0 1 0 0 5 0 0 1 0 1 0 1 2 0 1 0 0 1\n",
      "  1 2 1 2 1 1 1 1 1 0 0 0 0 0 0 0 1 0]\n",
      " [0 0 0 0 0 0 1 1 1 0 0 0 0 0 0 1 0 1 5 0 0 0 0 1 0 1 4 0 0 0 0 0 2 0 1 0 1\n",
      "  0 0 0 0 1 0 1 1 0 0 0 0 0 1 0 0 1 2 2 2 2 0 0 1 0 0 1 1 1 1 1 1 3 1 0 0 1\n",
      "  0 1 5 1 1 0 1 0 0 0 1 2 1 1 0 3 1 1 0 2 0 1 1 2 1 1 0 1 1 1 0 0 1 0 1 1 0\n",
      "  0 0 1 0 0 0 0 0 0 0 1 1 0 1 0 2 5 1]\n",
      " [3 1 0 0 0 0 0 0 0 0 0 0 0 0 0 0 0 0 2 1 0 1 0 3 1 1 0 0 0 0 2 0 0 0 0 1 0\n",
      "  0 0 1 0 0 0 0 0 0 0 0 0 1 0 2 0 0 0 0 0 0 1 0 0 2 0 0 0 0 1 1 0 4 0 1 0 0\n",
      "  0 0 0 0 0 0 0 1 2 0 0 0 0 2 0 0 0 0 2 0 0 0 0 1 0 0 0 0 1 0 0 1 0 1 1 0 1\n",
      "  0 0 0 0 0 0 0 0 0 1 0 0 1 0 1 0 0 0]]\n"
     ]
    }
   ],
   "source": [
    "#生成前3个职位的词频矩阵，并返回词频矩阵列标签\n",
    "vec=CountVectorizer()\n",
    "word_array=vec.fit_transform(wordlist[:3])\n",
    "print('列：'+str(len(word_array.toarray()[0]))+' 行：'+str(len(word_array.toarray())))\n",
    "print(vec.get_feature_names())\n",
    "print(word_array.toarray())"
   ]
  }
 ],
 "metadata": {
  "anaconda-cloud": {},
  "kernelspec": {
   "display_name": "Python [default]",
   "language": "python",
   "name": "python3"
  },
  "language_info": {
   "codemirror_mode": {
    "name": "ipython",
    "version": 3
   },
   "file_extension": ".py",
   "mimetype": "text/x-python",
   "name": "python",
   "nbconvert_exporter": "python",
   "pygments_lexer": "ipython3",
   "version": "3.5.2"
  }
 },
 "nbformat": 4,
 "nbformat_minor": 1
}
